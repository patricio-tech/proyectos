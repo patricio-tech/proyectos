{
  "nbformat": 4,
  "nbformat_minor": 0,
  "metadata": {
    "colab": {
      "name": "Untitled45.ipynb",
      "provenance": [],
      "authorship_tag": "ABX9TyNIlIU52aQdyACejDydkElm",
      "include_colab_link": true
    },
    "kernelspec": {
      "name": "python3",
      "display_name": "Python 3"
    },
    "language_info": {
      "name": "python"
    }
  },
  "cells": [
    {
      "cell_type": "markdown",
      "metadata": {
        "id": "view-in-github",
        "colab_type": "text"
      },
      "source": [
        "<a href=\"https://colab.research.google.com/github/patricio-tech/proyectos/blob/master/RL2.ipynb\" target=\"_parent\"><img src=\"https://colab.research.google.com/assets/colab-badge.svg\" alt=\"Open In Colab\"/></a>"
      ]
    },
    {
      "cell_type": "markdown",
      "metadata": {
        "id": "B9XAolRKMnd6"
      },
      "source": [
        "**Setup and Environment**"
      ]
    },
    {
      "cell_type": "code",
      "metadata": {
        "id": "U3Sd6-gCMY6H"
      },
      "source": [
        "import gym\n",
        "import matplotlib.pyplot as plt\n",
        "import numpy as np\n",
        "import random\n",
        "from IPython.display import clear_output\n",
        "\n",
        "import warnings\n",
        "warnings.simplefilter('ignore')\n",
        "\n",
        "%matplotlib inline\n",
        "import seaborn as sns\n",
        "sns.set()"
      ],
      "execution_count": 1,
      "outputs": []
    },
    {
      "cell_type": "code",
      "metadata": {
        "id": "E6LtdSCKMw89"
      },
      "source": [
        "#Fixing seed for reproducibility\n",
        "np.random.seed(0)"
      ],
      "execution_count": 2,
      "outputs": []
    },
    {
      "cell_type": "code",
      "metadata": {
        "colab": {
          "base_uri": "https://localhost:8080/"
        },
        "id": "o-zLie5gNSAe",
        "outputId": "db7d93de-2cc3-4c56-8c72-5938839c4b91"
      },
      "source": [
        "#Loading and rendering the gym environment\n",
        "env = gym.make(\"Taxi-v3\").env\n",
        "env.reset()\n",
        "env.render()"
      ],
      "execution_count": 3,
      "outputs": [
        {
          "output_type": "stream",
          "text": [
            "+---------+\n",
            "|R: | : :G|\n",
            "| : | : : |\n",
            "| : : : : |\n",
            "| |\u001b[43m \u001b[0m: | : |\n",
            "|\u001b[34;1mY\u001b[0m| : |\u001b[35mB\u001b[0m: |\n",
            "+---------+\n",
            "\n"
          ],
          "name": "stdout"
        }
      ]
    },
    {
      "cell_type": "code",
      "metadata": {
        "id": "usFEfM_4Ocw2",
        "outputId": "2d44cad1-ef13-409a-eb97-7f5286ef53da",
        "colab": {
          "base_uri": "https://localhost:8080/"
        }
      },
      "source": [
        "#Getting the state space\n",
        "print(\"Action Space {}\".format(env.action_space))\n",
        "print(\"State Space {}\".format(env.observation_space))"
      ],
      "execution_count": 4,
      "outputs": [
        {
          "output_type": "stream",
          "text": [
            "Action Space Discrete(6)\n",
            "State Space Discrete(500)\n"
          ],
          "name": "stdout"
        }
      ]
    },
    {
      "cell_type": "markdown",
      "metadata": {
        "id": "1k2E9F7l0nr_"
      },
      "source": [
        "**Q-learning** \n",
        "\n",
        "\n",
        "\n"
      ]
    },
    {
      "cell_type": "markdown",
      "metadata": {
        "id": "wt2W5L9_1tfd"
      },
      "source": [
        "initialize our Q-table given the state and action space in STEP 1;\n",
        "choose the hyperparameters for training;\n",
        "choose an action: explore or exploit in STEP 2;\n",
        "perform the action and measure the reward in STEPs 3 & 4;\n",
        "^^\n",
        "update the Q-table using the Bellman equation in STEP 5.\n",
        "update the collected rewards\n",
        "use decay to balance exploration and exploitation"
      ]
    },
    {
      "cell_type": "code",
      "metadata": {
        "id": "6fzYMYIX2BRR"
      },
      "source": [
        "#STEP 1 - Initializing the Q-table\n",
        "\n",
        "Q = np.zeros((env.observation_space.n, env.action_space.n))"
      ],
      "execution_count": 5,
      "outputs": []
    },
    {
      "cell_type": "code",
      "metadata": {
        "id": "HkW4Dak42fT3"
      },
      "source": [
        "#Setting the hyperparameters\n",
        "              \n",
        "alpha = 0.7 #learning rate                 \n",
        "discount_factor = 0.618               \n",
        "epsilon = 1                  \n",
        "max_epsilon = 1\n",
        "min_epsilon = 0.01         \n",
        "decay = 0.01         \n",
        "\n",
        "train_episodes = 2000    \n",
        "test_episodes = 100          \n",
        "max_steps = 100"
      ],
      "execution_count": 6,
      "outputs": []
    },
    {
      "cell_type": "code",
      "metadata": {
        "id": "7Ou2bI9I4lnL",
        "outputId": "bbec9f77-e0c7-48e9-d576-4c5de32ac63a",
        "colab": {
          "base_uri": "https://localhost:8080/"
        }
      },
      "source": [
        "#Training the agent\n",
        "\n",
        "#Creating lists to keep track of reward and epsilon values\n",
        "training_rewards = []  \n",
        "epsilons = []\n",
        "\n",
        "for episode in range(train_episodes):\n",
        "    #Reseting the environment each time as per requirement\n",
        "    state = env.reset()    \n",
        "    #Starting the tracker for the rewards\n",
        "    total_training_rewards = 0\n",
        "    \n",
        "    for step in range(100):\n",
        "        #Choosing an action given the states based on a random number\n",
        "        exp_exp_tradeoff = random.uniform(0, 1) \n",
        "        \n",
        "        \n",
        "        ### STEP 2: SECOND option for choosing the initial action - exploit     \n",
        "        #If the random number is larger than epsilon: employing exploitation \n",
        "        #and selecting best action \n",
        "        if exp_exp_tradeoff > epsilon:\n",
        "            action = np.argmax(Q[state,:])      \n",
        "            \n",
        "        ### STEP 2: FIRST option for choosing the initial action - explore       \n",
        "        #Otherwise, employing exploration: choosing a random action \n",
        "        else:\n",
        "            action = env.action_space.sample()\n",
        "            \n",
        "            \n",
        "        ### STEPs 3 & 4: performing the action and getting the reward     \n",
        "        #Taking the action and getting the reward and outcome state\n",
        "        new_state, reward, done, info = env.step(action)\n",
        "        \n",
        "\n",
        "        ### STEP 5: update the Q-table\n",
        "        #Updating the Q-table using the Bellman equation\n",
        "        Q[state, action] = Q[state, action] + alpha * (reward + discount_factor * np.max(Q[new_state, :]) - Q[state, action]) \n",
        "        #Increasing our total reward and updating the state\n",
        "        total_training_rewards += reward      \n",
        "        state = new_state         \n",
        "        \n",
        "        #Ending the episode\n",
        "        if done == True:\n",
        "            #print (\"Total reward for episode {}: {}\".format(episode, total_training_rewards))\n",
        "            break\n",
        "    \n",
        "    #Cutting down on exploration by reducing the epsilon \n",
        "    epsilon = min_epsilon + (max_epsilon - min_epsilon)*np.exp(-decay*episode)\n",
        "    \n",
        "    #Adding the total reward and reduced epsilon values\n",
        "    training_rewards.append(total_training_rewards)\n",
        "    epsilons.append(epsilon)\n",
        "    \n",
        "    \n",
        "\n",
        "print (\"Training score over time: \" + str(sum(training_rewards)/train_episodes))"
      ],
      "execution_count": 7,
      "outputs": [
        {
          "output_type": "stream",
          "text": [
            "Training score over time: -19.4645\n"
          ],
          "name": "stdout"
        }
      ]
    },
    {
      "cell_type": "code",
      "metadata": {
        "id": "5D1pCIa2XJdo",
        "outputId": "d1d2225e-1977-4a6c-9fbf-8f169ccf9076",
        "colab": {
          "base_uri": "https://localhost:8080/",
          "height": 301
        }
      },
      "source": [
        "#Visualizing results and total reward over all episodes\n",
        "x = range(train_episodes)\n",
        "plt.plot(x, training_rewards)\n",
        "plt.xlabel('Episode')\n",
        "plt.ylabel('Training total reward')\n",
        "plt.title('Total rewards over all episodes in training') \n",
        "plt.show()"
      ],
      "execution_count": 8,
      "outputs": [
        {
          "output_type": "display_data",
          "data": {
            "image/png": "[encoded data removed]",
            "text/plain": [
              "<Figure size 432x288 with 1 Axes>"
            ]
          },
          "metadata": {
            "tags": [],
            "needs_background": "light"
          }
        }
      ]
    },
    {
      "cell_type": "code",
      "metadata": {
        "id": "5gURXi-3YTjS",
        "outputId": "7439fd4f-6b27-485c-aad3-18381962b1e8",
        "colab": {
          "base_uri": "https://localhost:8080/",
          "height": 301
        }
      },
      "source": [
        "#Visualizing the epsilons over all episodes\n",
        "plt.plot(epsilons)\n",
        "plt.xlabel('Episode')\n",
        "plt.ylabel('Epsilon')\n",
        "plt.title(\"Epsilon for episode\")\n",
        "plt.show()"
      ],
      "execution_count": 9,
      "outputs": [
        {
          "output_type": "display_data",
          "data": {
            "image/png": "[encoded data removed]",
            "text/plain": [
              "<Figure size 432x288 with 1 Axes>"
            ]
          },
          "metadata": {
            "tags": [],
            "needs_background": "light"
          }
        }
      ]
    }
  ]
}