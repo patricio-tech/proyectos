{
  "nbformat": 4,
  "nbformat_minor": 0,
  "metadata": {
    "colab": {
      "name": "HHC_Examen.ipynb",
      "provenance": [],
      "collapsed_sections": [],
      "include_colab_link": true
    },
    "kernelspec": {
      "name": "python3",
      "display_name": "Python 3"
    }
  },
  "cells": [
    {
      "cell_type": "markdown",
      "metadata": {
        "id": "view-in-github",
        "colab_type": "text"
      },
      "source": [
        "<a href=\"https://colab.research.google.com/github/patricio-tech/proyectos/blob/master/HHC_Examen.ipynb\" target=\"_parent\"><img src=\"https://colab.research.google.com/assets/colab-badge.svg\" alt=\"Open In Colab\"/></a>"
      ]
    },
    {
      "cell_type": "markdown",
      "metadata": {
        "id": "tNOiXGnO-9rt",
        "colab_type": "text"
      },
      "source": [
        "\n",
        "\n",
        "# House Hold Consumption Examen Pregunta 1\n",
        "Redes neuronales convolucionales\n",
        "\n",
        "Edwin Solís\n",
        "\n",
        "2020.09.05"
      ]
    },
    {
      "cell_type": "markdown",
      "metadata": {
        "id": "xyZhTx2Tnnud",
        "colab_type": "text"
      },
      "source": [
        "1.\tRealizar el pronóstico de la demanda activa para una semana del cliente AMI (household_power_consumption) utilizando una red neuronal convolucional para series de tiempo de varios pasos, previamente se deben preparar los datos de tal forma que la demanda sea en intervalos de cada 15 minutos. "
      ]
    },
    {
      "cell_type": "markdown",
      "metadata": {
        "id": "plLHdHNoAJrO",
        "colab_type": "text"
      },
      "source": [
        "## RED NEURONAL CONVOLUCIONAL"
      ]
    },
    {
      "cell_type": "markdown",
      "metadata": {
        "id": "fxXwNkGK_NGz",
        "colab_type": "text"
      },
      "source": [
        "1. Carga de datos y procesar **[Demanda Activa]**"
      ]
    },
    {
      "cell_type": "code",
      "metadata": {
        "id": "Jg7Xt9Wr-uXb",
        "colab_type": "code",
        "colab": {}
      },
      "source": [
        "import datetime\n",
        "import numpy as np\n",
        "import pandas as pd\n",
        "import matplotlib.pyplot as plt\n",
        "from keras.models import Sequential\n",
        "from keras.layers import Dense,Activation,Flatten\n",
        "from sklearn.preprocessing import MinMaxScaler\n",
        "from keras.layers.convolutional import Conv1D\n",
        "from keras.layers.convolutional import MaxPooling1D\n",
        "import keras.backend as K"
      ],
      "execution_count": null,
      "outputs": []
    },
    {
      "cell_type": "code",
      "metadata": {
        "id": "kDJCPwqW_qlw",
        "colab_type": "code",
        "colab": {}
      },
      "source": [
        "\n",
        "url = 'https://raw.githubusercontent.com/esoliss/AMI/master/Dataset/household_power_consumption_15min.csv'\n",
        "df = pd.read_csv(url, error_bad_lines=False)\n",
        "df = df.drop(df.columns[-1],axis=1)\n",
        "df = df.rename(columns={\"Global_active_power\": \"P\"})\n",
        "df['datetime'] = df['datetime'].astype('datetime64[ns]')\n",
        "\n",
        "dfil = df[['datetime','P']].copy()\n"
      ],
      "execution_count": null,
      "outputs": []
    },
    {
      "cell_type": "code",
      "metadata": {
        "id": "nGjEdm99CK4i",
        "colab_type": "code",
        "colab": {}
      },
      "source": [
        "dfil = df[['datetime','P']].copy()\n",
        "ini=df[\"datetime\"][100]#[12315]\n",
        "fin=df[\"datetime\"][12987]\n",
        "mask = (dfil[\"datetime\"]>=ini) & (dfil[\"datetime\"]<fin)\n",
        "seq = dfil.loc[mask] \n",
        "dfil = seq"
      ],
      "execution_count": null,
      "outputs": []
    },
    {
      "cell_type": "markdown",
      "metadata": {
        "id": "Ni4boQtPACXg",
        "colab_type": "text"
      },
      "source": [
        "2. Definición de funciones para el modelo"
      ]
    },
    {
      "cell_type": "code",
      "metadata": {
        "id": "dT-D6qTfABuy",
        "colab_type": "code",
        "colab": {}
      },
      "source": [
        "# definición de métrica para precisión\n",
        "def soft_acc(y_true, y_pred):\n",
        "    return K.mean(K.equal(K.round(y_true), K.round(y_pred)))\n",
        "# convert series to supervised learning\n",
        "def series_to_supervised(data, n_in=1, n_out=1, dropnan=True):\n",
        "    n_vars = 1 if type(data) is list else data.shape[1]\n",
        "    df = pd.DataFrame(data)\n",
        "    cols, names = list(), list()\n",
        "    # input sequence (t-n, ... t-1)\n",
        "    for i in range(n_in, 0, -1):\n",
        "        cols.append(df.shift(i))\n",
        "        names += [('var%d(t-%d)' % (j+1, i)) for j in range(n_vars)]\n",
        "    # forecast sequence (t, t+1, ... t+n)\n",
        "    for i in range(0, n_out):\n",
        "        cols.append(df.shift(-i))\n",
        "        if i == 0:\n",
        "            names += [('var%d(t)' % (j+1)) for j in range(n_vars)]\n",
        "        else:\n",
        "            names += [('var%d(t+%d)' % (j+1, i)) for j in range(n_vars)]\n",
        "    # put it all together\n",
        "    agg = pd.concat(cols, axis=1)\n",
        "    agg.columns = names\n",
        "    # drop rows with NaN values\n",
        "    if dropnan:\n",
        "        agg.dropna(inplace=True)\n",
        "    return agg\n",
        "# creación del modelo\n",
        "def crear_modeloFF():\n",
        "    model = Sequential() \n",
        "    #model.add(Dense(PASOS, input_shape=(1,PASOS),activation='tanh'))\n",
        "    model.add(Conv1D(filters=26, kernel_size=3, activation='relu', input_shape=(PASOS,1)))\n",
        "    model.add(MaxPooling1D(pool_size=2))\n",
        "    model.add(Flatten())\n",
        "    model.add(Dense(50, activation='relu'))\n",
        "    model.add(Dense(1))\n",
        "    model.compile(loss='mean_absolute_error',optimizer='Adam',metrics=[soft_acc])\n",
        "    model.summary()\n",
        "    return model\n",
        "# Resultados\n",
        "def agregarNuevoValor(x_test,nuevoValor):\n",
        "    for i in range(x_test.shape[1]-1):\n",
        "        x_test[0][i][0] = x_test[0][i+1][0]\n",
        "    x_test[0][x_test.shape[1]-1][0]=nuevoValor\n",
        "    return x_test\n"
      ],
      "execution_count": null,
      "outputs": []
    },
    {
      "cell_type": "markdown",
      "metadata": {
        "id": "p5WDEfHzEvE1",
        "colab_type": "text"
      },
      "source": [
        "3. Conversión de serie de tiempo"
      ]
    },
    {
      "cell_type": "code",
      "metadata": {
        "id": "LojoSnJFEqfv",
        "colab_type": "code",
        "colab": {
          "base_uri": "https://localhost:8080/",
          "height": 34
        },
        "outputId": "8e79b21f-65c1-4b3c-bdf0-deca884f25a1"
      },
      "source": [
        "PASOS=672\n",
        "EPOCHS=200\n",
        "# load dataset\n",
        "values = dfil['P'].values\n",
        "# ensure all data is float\n",
        "values = values.astype('float32')\n",
        "# normalize features\n",
        "scaler = MinMaxScaler(feature_range=(-1, 1))\n",
        "values=values.reshape(-1, 1) # esto lo hacemos porque tenemos 1 sola dimension\n",
        "scaled = scaler.fit_transform(values)\n",
        "# frame as supervised learning\n",
        "reframed = series_to_supervised(scaled,PASOS,1)\n",
        "# split into train and test sets\n",
        "values = reframed.values\n",
        "n_train_days = int(dfil.shape[0] - (dfil.shape[0]*0.2+PASOS))\n",
        "train = values[:n_train_days, :]\n",
        "test = values[n_train_days:, :]\n",
        "# split into input and outputs\n",
        "x_train, y_train = train[:, :-1], train[:, -1]\n",
        "x_val, y_val = test[:, :-1], test[:, -1]\n",
        "# reshape input to be 3D [samples, timesteps, features]\n",
        "x_train = x_train.reshape((x_train.shape[0], x_train.shape[1],1))\n",
        "x_val = x_val.reshape((x_val.shape[0], x_val.shape[1],1))\n",
        "print(x_train.shape, y_train.shape, x_val.shape, y_val.shape)"
      ],
      "execution_count": null,
      "outputs": [
        {
          "output_type": "stream",
          "text": [
            "(9637, 672, 1) (9637,) (2578, 672, 1) (2578,)\n"
          ],
          "name": "stdout"
        }
      ]
    },
    {
      "cell_type": "markdown",
      "metadata": {
        "id": "PRUZGiAGFbub",
        "colab_type": "text"
      },
      "source": [
        "4. Entrenamiento del modelo"
      ]
    },
    {
      "cell_type": "code",
      "metadata": {
        "id": "eSNSo7P6FeUY",
        "colab_type": "code",
        "colab": {
          "base_uri": "https://localhost:8080/",
          "height": 1000
        },
        "outputId": "88f026a3-8610-4adb-c01c-cc7c683239d3"
      },
      "source": [
        "\n",
        "model = crear_modeloFF()\n",
        "\n",
        "history=model.fit(x_train,y_train,epochs=EPOCHS,validation_data=(x_val,y_val),batch_size=PASOS)\n",
        "\n",
        "results=model.predict(x_val)"
      ],
      "execution_count": null,
      "outputs": [
        {
          "output_type": "stream",
          "text": [
            "Model: \"sequential_1\"\n",
            "_________________________________________________________________\n",
            "Layer (type)                 Output Shape              Param #   \n",
            "=================================================================\n",
            "conv1d_1 (Conv1D)            (None, 670, 26)           104       \n",
            "_________________________________________________________________\n",
            "max_pooling1d_1 (MaxPooling1 (None, 335, 26)           0         \n",
            "_________________________________________________________________\n",
            "flatten_1 (Flatten)          (None, 8710)              0         \n",
            "_________________________________________________________________\n",
            "dense_2 (Dense)              (None, 50)                435550    \n",
            "_________________________________________________________________\n",
            "dense_3 (Dense)              (None, 1)                 51        \n",
            "=================================================================\n",
            "Total params: 435,705\n",
            "Trainable params: 435,705\n",
            "Non-trainable params: 0\n",
            "_________________________________________________________________\n",
            "Epoch 1/200\n",
            "15/15 [==============================] - 3s 217ms/step - loss: 0.4423 - soft_acc: 0.5513 - val_loss: 0.1690 - val_soft_acc: 0.9103\n",
            "Epoch 2/200\n",
            "15/15 [==============================] - 3s 210ms/step - loss: 0.2229 - soft_acc: 0.7421 - val_loss: 0.1315 - val_soft_acc: 0.9103\n",
            "Epoch 3/200\n",
            "15/15 [==============================] - 3s 211ms/step - loss: 0.1899 - soft_acc: 0.7624 - val_loss: 0.1211 - val_soft_acc: 0.9118\n",
            "Epoch 4/200\n",
            "15/15 [==============================] - 3s 208ms/step - loss: 0.1765 - soft_acc: 0.7824 - val_loss: 0.1214 - val_soft_acc: 0.9118\n",
            "Epoch 5/200\n",
            "15/15 [==============================] - 3s 210ms/step - loss: 0.1656 - soft_acc: 0.8001 - val_loss: 0.1164 - val_soft_acc: 0.9118\n",
            "Epoch 6/200\n",
            "15/15 [==============================] - 3s 211ms/step - loss: 0.1539 - soft_acc: 0.8102 - val_loss: 0.1111 - val_soft_acc: 0.9114\n",
            "Epoch 7/200\n",
            "15/15 [==============================] - 3s 210ms/step - loss: 0.1440 - soft_acc: 0.8193 - val_loss: 0.1120 - val_soft_acc: 0.9151\n",
            "Epoch 8/200\n",
            "15/15 [==============================] - 3s 211ms/step - loss: 0.1384 - soft_acc: 0.8259 - val_loss: 0.1057 - val_soft_acc: 0.9139\n",
            "Epoch 9/200\n",
            "15/15 [==============================] - 3s 212ms/step - loss: 0.1352 - soft_acc: 0.8372 - val_loss: 0.1013 - val_soft_acc: 0.9158\n",
            "Epoch 10/200\n",
            "15/15 [==============================] - 3s 210ms/step - loss: 0.1334 - soft_acc: 0.8430 - val_loss: 0.1108 - val_soft_acc: 0.9196\n",
            "Epoch 11/200\n",
            "15/15 [==============================] - 3s 210ms/step - loss: 0.1278 - soft_acc: 0.8536 - val_loss: 0.1013 - val_soft_acc: 0.9202\n",
            "Epoch 12/200\n",
            "15/15 [==============================] - 3s 212ms/step - loss: 0.1206 - soft_acc: 0.8573 - val_loss: 0.1024 - val_soft_acc: 0.9221\n",
            "Epoch 13/200\n",
            "15/15 [==============================] - 3s 210ms/step - loss: 0.1160 - soft_acc: 0.8638 - val_loss: 0.1009 - val_soft_acc: 0.9176\n",
            "Epoch 14/200\n",
            "15/15 [==============================] - 3s 211ms/step - loss: 0.1250 - soft_acc: 0.8568 - val_loss: 0.1490 - val_soft_acc: 0.9232\n",
            "Epoch 15/200\n",
            "15/15 [==============================] - 3s 212ms/step - loss: 0.1346 - soft_acc: 0.8521 - val_loss: 0.0964 - val_soft_acc: 0.9207\n",
            "Epoch 16/200\n",
            "15/15 [==============================] - 3s 215ms/step - loss: 0.1110 - soft_acc: 0.8702 - val_loss: 0.0908 - val_soft_acc: 0.9246\n",
            "Epoch 17/200\n",
            "15/15 [==============================] - 3s 213ms/step - loss: 0.1084 - soft_acc: 0.8748 - val_loss: 0.1060 - val_soft_acc: 0.9208\n",
            "Epoch 18/200\n",
            "15/15 [==============================] - 3s 212ms/step - loss: 0.1084 - soft_acc: 0.8755 - val_loss: 0.0902 - val_soft_acc: 0.9249\n",
            "Epoch 19/200\n",
            "15/15 [==============================] - 3s 212ms/step - loss: 0.1042 - soft_acc: 0.8773 - val_loss: 0.0868 - val_soft_acc: 0.9330\n",
            "Epoch 20/200\n",
            "15/15 [==============================] - 3s 213ms/step - loss: 0.1031 - soft_acc: 0.8785 - val_loss: 0.0866 - val_soft_acc: 0.9348\n",
            "Epoch 21/200\n",
            "15/15 [==============================] - 3s 211ms/step - loss: 0.1033 - soft_acc: 0.8800 - val_loss: 0.0967 - val_soft_acc: 0.9256\n",
            "Epoch 22/200\n",
            "15/15 [==============================] - 3s 210ms/step - loss: 0.1104 - soft_acc: 0.8789 - val_loss: 0.0852 - val_soft_acc: 0.9342\n",
            "Epoch 23/200\n",
            "15/15 [==============================] - 3s 214ms/step - loss: 0.1012 - soft_acc: 0.8843 - val_loss: 0.0859 - val_soft_acc: 0.9311\n",
            "Epoch 24/200\n",
            "15/15 [==============================] - 3s 211ms/step - loss: 0.0995 - soft_acc: 0.8863 - val_loss: 0.1318 - val_soft_acc: 0.9210\n",
            "Epoch 25/200\n",
            "15/15 [==============================] - 3s 213ms/step - loss: 0.1075 - soft_acc: 0.8796 - val_loss: 0.0984 - val_soft_acc: 0.9390\n",
            "Epoch 26/200\n",
            "15/15 [==============================] - 3s 211ms/step - loss: 0.1020 - soft_acc: 0.8847 - val_loss: 0.0859 - val_soft_acc: 0.9379\n",
            "Epoch 27/200\n",
            "15/15 [==============================] - 3s 211ms/step - loss: 0.0959 - soft_acc: 0.8921 - val_loss: 0.0828 - val_soft_acc: 0.9373\n",
            "Epoch 28/200\n",
            "15/15 [==============================] - 3s 211ms/step - loss: 0.1244 - soft_acc: 0.8702 - val_loss: 0.1735 - val_soft_acc: 0.9170\n",
            "Epoch 29/200\n",
            "15/15 [==============================] - 3s 211ms/step - loss: 0.1384 - soft_acc: 0.8647 - val_loss: 0.0879 - val_soft_acc: 0.9306\n",
            "Epoch 30/200\n",
            "15/15 [==============================] - 3s 209ms/step - loss: 0.1048 - soft_acc: 0.8842 - val_loss: 0.1087 - val_soft_acc: 0.9228\n",
            "Epoch 31/200\n",
            "15/15 [==============================] - 3s 211ms/step - loss: 0.1067 - soft_acc: 0.8834 - val_loss: 0.1061 - val_soft_acc: 0.9389\n",
            "Epoch 32/200\n",
            "15/15 [==============================] - 3s 212ms/step - loss: 0.1000 - soft_acc: 0.8865 - val_loss: 0.1051 - val_soft_acc: 0.9389\n",
            "Epoch 33/200\n",
            "15/15 [==============================] - 3s 212ms/step - loss: 0.1012 - soft_acc: 0.8890 - val_loss: 0.0813 - val_soft_acc: 0.9361\n",
            "Epoch 34/200\n",
            "15/15 [==============================] - 3s 212ms/step - loss: 0.0927 - soft_acc: 0.8936 - val_loss: 0.0822 - val_soft_acc: 0.9372\n",
            "Epoch 35/200\n",
            "15/15 [==============================] - 3s 210ms/step - loss: 0.0923 - soft_acc: 0.8921 - val_loss: 0.0800 - val_soft_acc: 0.9378\n",
            "Epoch 36/200\n",
            "15/15 [==============================] - 3s 211ms/step - loss: 0.0917 - soft_acc: 0.8968 - val_loss: 0.0798 - val_soft_acc: 0.9380\n",
            "Epoch 37/200\n",
            "15/15 [==============================] - 3s 210ms/step - loss: 0.0905 - soft_acc: 0.8949 - val_loss: 0.0793 - val_soft_acc: 0.9393\n",
            "Epoch 38/200\n",
            "15/15 [==============================] - 3s 211ms/step - loss: 0.0942 - soft_acc: 0.8934 - val_loss: 0.0917 - val_soft_acc: 0.9382\n",
            "Epoch 39/200\n",
            "15/15 [==============================] - 3s 212ms/step - loss: 0.0944 - soft_acc: 0.8919 - val_loss: 0.0806 - val_soft_acc: 0.9395\n",
            "Epoch 40/200\n",
            "15/15 [==============================] - 3s 212ms/step - loss: 0.0903 - soft_acc: 0.8954 - val_loss: 0.0806 - val_soft_acc: 0.9413\n",
            "Epoch 41/200\n",
            "15/15 [==============================] - 3s 211ms/step - loss: 0.0906 - soft_acc: 0.8942 - val_loss: 0.0800 - val_soft_acc: 0.9382\n",
            "Epoch 42/200\n",
            "15/15 [==============================] - 3s 213ms/step - loss: 0.0917 - soft_acc: 0.8967 - val_loss: 0.0787 - val_soft_acc: 0.9405\n",
            "Epoch 43/200\n",
            "15/15 [==============================] - 3s 210ms/step - loss: 0.0889 - soft_acc: 0.8971 - val_loss: 0.0787 - val_soft_acc: 0.9402\n",
            "Epoch 44/200\n",
            "15/15 [==============================] - 3s 211ms/step - loss: 0.0893 - soft_acc: 0.8987 - val_loss: 0.0789 - val_soft_acc: 0.9382\n",
            "Epoch 45/200\n",
            "15/15 [==============================] - 3s 212ms/step - loss: 0.0891 - soft_acc: 0.8994 - val_loss: 0.0798 - val_soft_acc: 0.9382\n",
            "Epoch 46/200\n",
            "15/15 [==============================] - 3s 211ms/step - loss: 0.0884 - soft_acc: 0.9010 - val_loss: 0.0781 - val_soft_acc: 0.9409\n",
            "Epoch 47/200\n",
            "15/15 [==============================] - 3s 212ms/step - loss: 0.0891 - soft_acc: 0.8978 - val_loss: 0.0914 - val_soft_acc: 0.9390\n",
            "Epoch 48/200\n",
            "15/15 [==============================] - 3s 211ms/step - loss: 0.0910 - soft_acc: 0.8988 - val_loss: 0.0804 - val_soft_acc: 0.9405\n",
            "Epoch 49/200\n",
            "15/15 [==============================] - 3s 210ms/step - loss: 0.0916 - soft_acc: 0.8977 - val_loss: 0.0786 - val_soft_acc: 0.9416\n",
            "Epoch 50/200\n",
            "15/15 [==============================] - 3s 211ms/step - loss: 0.0880 - soft_acc: 0.9012 - val_loss: 0.0781 - val_soft_acc: 0.9418\n",
            "Epoch 51/200\n",
            "15/15 [==============================] - 3s 212ms/step - loss: 0.0872 - soft_acc: 0.9021 - val_loss: 0.0842 - val_soft_acc: 0.9413\n",
            "Epoch 52/200\n",
            "15/15 [==============================] - 3s 210ms/step - loss: 0.0868 - soft_acc: 0.9037 - val_loss: 0.0794 - val_soft_acc: 0.9390\n",
            "Epoch 53/200\n",
            "15/15 [==============================] - 3s 211ms/step - loss: 0.0881 - soft_acc: 0.9027 - val_loss: 0.0853 - val_soft_acc: 0.9406\n",
            "Epoch 54/200\n",
            "15/15 [==============================] - 3s 211ms/step - loss: 0.0878 - soft_acc: 0.9003 - val_loss: 0.0772 - val_soft_acc: 0.9387\n",
            "Epoch 55/200\n",
            "15/15 [==============================] - 3s 211ms/step - loss: 0.0873 - soft_acc: 0.9019 - val_loss: 0.0957 - val_soft_acc: 0.9340\n",
            "Epoch 56/200\n",
            "15/15 [==============================] - 3s 213ms/step - loss: 0.0929 - soft_acc: 0.8969 - val_loss: 0.0909 - val_soft_acc: 0.9402\n",
            "Epoch 57/200\n",
            "15/15 [==============================] - 3s 211ms/step - loss: 0.0912 - soft_acc: 0.8999 - val_loss: 0.0850 - val_soft_acc: 0.9377\n",
            "Epoch 58/200\n",
            "15/15 [==============================] - 3s 210ms/step - loss: 0.0855 - soft_acc: 0.9042 - val_loss: 0.0782 - val_soft_acc: 0.9412\n",
            "Epoch 59/200\n",
            "15/15 [==============================] - 3s 210ms/step - loss: 0.0860 - soft_acc: 0.9060 - val_loss: 0.0778 - val_soft_acc: 0.9397\n",
            "Epoch 60/200\n",
            "15/15 [==============================] - 3s 212ms/step - loss: 0.0869 - soft_acc: 0.9056 - val_loss: 0.0774 - val_soft_acc: 0.9404\n",
            "Epoch 61/200\n",
            "15/15 [==============================] - 3s 212ms/step - loss: 0.0879 - soft_acc: 0.9048 - val_loss: 0.0875 - val_soft_acc: 0.9391\n",
            "Epoch 62/200\n",
            "15/15 [==============================] - 3s 216ms/step - loss: 0.0869 - soft_acc: 0.9031 - val_loss: 0.0790 - val_soft_acc: 0.9416\n",
            "Epoch 63/200\n",
            "15/15 [==============================] - 3s 215ms/step - loss: 0.0844 - soft_acc: 0.9030 - val_loss: 0.0825 - val_soft_acc: 0.9413\n",
            "Epoch 64/200\n",
            "15/15 [==============================] - 3s 216ms/step - loss: 0.0845 - soft_acc: 0.9062 - val_loss: 0.0775 - val_soft_acc: 0.9399\n",
            "Epoch 65/200\n",
            "15/15 [==============================] - 3s 215ms/step - loss: 0.0842 - soft_acc: 0.9055 - val_loss: 0.0771 - val_soft_acc: 0.9399\n",
            "Epoch 66/200\n",
            "15/15 [==============================] - 3s 215ms/step - loss: 0.0839 - soft_acc: 0.9044 - val_loss: 0.0793 - val_soft_acc: 0.9413\n",
            "Epoch 67/200\n",
            "15/15 [==============================] - 3s 226ms/step - loss: 0.0835 - soft_acc: 0.9056 - val_loss: 0.0863 - val_soft_acc: 0.9394\n",
            "Epoch 68/200\n",
            "15/15 [==============================] - 3s 233ms/step - loss: 0.0877 - soft_acc: 0.9044 - val_loss: 0.0894 - val_soft_acc: 0.9395\n",
            "Epoch 69/200\n",
            "15/15 [==============================] - 3s 214ms/step - loss: 0.0859 - soft_acc: 0.9020 - val_loss: 0.0773 - val_soft_acc: 0.9392\n",
            "Epoch 70/200\n",
            "15/15 [==============================] - 3s 212ms/step - loss: 0.0830 - soft_acc: 0.9065 - val_loss: 0.0784 - val_soft_acc: 0.9413\n",
            "Epoch 71/200\n",
            "15/15 [==============================] - 3s 210ms/step - loss: 0.0854 - soft_acc: 0.9054 - val_loss: 0.0799 - val_soft_acc: 0.9384\n",
            "Epoch 72/200\n",
            "15/15 [==============================] - 3s 210ms/step - loss: 0.0833 - soft_acc: 0.9075 - val_loss: 0.0801 - val_soft_acc: 0.9410\n",
            "Epoch 73/200\n",
            "15/15 [==============================] - 3s 212ms/step - loss: 0.0863 - soft_acc: 0.9051 - val_loss: 0.0813 - val_soft_acc: 0.9404\n",
            "Epoch 74/200\n",
            "15/15 [==============================] - 3s 211ms/step - loss: 0.0851 - soft_acc: 0.9063 - val_loss: 0.0827 - val_soft_acc: 0.9406\n",
            "Epoch 75/200\n",
            "15/15 [==============================] - 3s 210ms/step - loss: 0.0865 - soft_acc: 0.9051 - val_loss: 0.1041 - val_soft_acc: 0.9371\n",
            "Epoch 76/200\n",
            "15/15 [==============================] - 3s 212ms/step - loss: 0.0959 - soft_acc: 0.8998 - val_loss: 0.0794 - val_soft_acc: 0.9411\n",
            "Epoch 77/200\n",
            "15/15 [==============================] - 3s 211ms/step - loss: 0.0949 - soft_acc: 0.8983 - val_loss: 0.0839 - val_soft_acc: 0.9388\n",
            "Epoch 78/200\n",
            "15/15 [==============================] - 3s 211ms/step - loss: 0.0865 - soft_acc: 0.9066 - val_loss: 0.0814 - val_soft_acc: 0.9402\n",
            "Epoch 79/200\n",
            "15/15 [==============================] - 3s 213ms/step - loss: 0.0818 - soft_acc: 0.9097 - val_loss: 0.0777 - val_soft_acc: 0.9411\n",
            "Epoch 80/200\n",
            "15/15 [==============================] - 3s 213ms/step - loss: 0.0825 - soft_acc: 0.9055 - val_loss: 0.0829 - val_soft_acc: 0.9387\n",
            "Epoch 81/200\n",
            "15/15 [==============================] - 3s 211ms/step - loss: 0.0921 - soft_acc: 0.9019 - val_loss: 0.0931 - val_soft_acc: 0.9390\n",
            "Epoch 82/200\n",
            "15/15 [==============================] - 3s 212ms/step - loss: 0.0839 - soft_acc: 0.9071 - val_loss: 0.0797 - val_soft_acc: 0.9403\n",
            "Epoch 83/200\n",
            "15/15 [==============================] - 3s 212ms/step - loss: 0.0796 - soft_acc: 0.9092 - val_loss: 0.0785 - val_soft_acc: 0.9405\n",
            "Epoch 84/200\n",
            "15/15 [==============================] - 3s 210ms/step - loss: 0.0798 - soft_acc: 0.9103 - val_loss: 0.0802 - val_soft_acc: 0.9403\n",
            "Epoch 85/200\n",
            "15/15 [==============================] - 3s 212ms/step - loss: 0.0829 - soft_acc: 0.9063 - val_loss: 0.0817 - val_soft_acc: 0.9410\n",
            "Epoch 86/200\n",
            "15/15 [==============================] - 3s 211ms/step - loss: 0.0798 - soft_acc: 0.9133 - val_loss: 0.0777 - val_soft_acc: 0.9409\n",
            "Epoch 87/200\n",
            "15/15 [==============================] - 3s 210ms/step - loss: 0.0791 - soft_acc: 0.9098 - val_loss: 0.0794 - val_soft_acc: 0.9406\n",
            "Epoch 88/200\n",
            "15/15 [==============================] - 3s 211ms/step - loss: 0.0828 - soft_acc: 0.9089 - val_loss: 0.0825 - val_soft_acc: 0.9387\n",
            "Epoch 89/200\n",
            "15/15 [==============================] - 3s 212ms/step - loss: 0.0823 - soft_acc: 0.9068 - val_loss: 0.0813 - val_soft_acc: 0.9411\n",
            "Epoch 90/200\n",
            "15/15 [==============================] - 3s 212ms/step - loss: 0.0815 - soft_acc: 0.9084 - val_loss: 0.0785 - val_soft_acc: 0.9411\n",
            "Epoch 91/200\n",
            "15/15 [==============================] - 3s 212ms/step - loss: 0.0804 - soft_acc: 0.9090 - val_loss: 0.0782 - val_soft_acc: 0.9403\n",
            "Epoch 92/200\n",
            "15/15 [==============================] - 3s 211ms/step - loss: 0.0879 - soft_acc: 0.9065 - val_loss: 0.0866 - val_soft_acc: 0.9371\n",
            "Epoch 93/200\n",
            "15/15 [==============================] - 3s 211ms/step - loss: 0.0906 - soft_acc: 0.9014 - val_loss: 0.0831 - val_soft_acc: 0.9391\n",
            "Epoch 94/200\n",
            "15/15 [==============================] - 3s 211ms/step - loss: 0.0839 - soft_acc: 0.9093 - val_loss: 0.0795 - val_soft_acc: 0.9403\n",
            "Epoch 95/200\n",
            "15/15 [==============================] - 3s 212ms/step - loss: 0.0906 - soft_acc: 0.9006 - val_loss: 0.0865 - val_soft_acc: 0.9399\n",
            "Epoch 96/200\n",
            "15/15 [==============================] - 3s 213ms/step - loss: 0.0817 - soft_acc: 0.9085 - val_loss: 0.0846 - val_soft_acc: 0.9394\n",
            "Epoch 97/200\n",
            "15/15 [==============================] - 3s 211ms/step - loss: 0.0801 - soft_acc: 0.9109 - val_loss: 0.0786 - val_soft_acc: 0.9411\n",
            "Epoch 98/200\n",
            "15/15 [==============================] - 3s 210ms/step - loss: 0.0789 - soft_acc: 0.9106 - val_loss: 0.0778 - val_soft_acc: 0.9399\n",
            "Epoch 99/200\n",
            "15/15 [==============================] - 3s 212ms/step - loss: 0.0784 - soft_acc: 0.9126 - val_loss: 0.0780 - val_soft_acc: 0.9404\n",
            "Epoch 100/200\n",
            "15/15 [==============================] - 3s 212ms/step - loss: 0.0789 - soft_acc: 0.9114 - val_loss: 0.0776 - val_soft_acc: 0.9401\n",
            "Epoch 101/200\n",
            "15/15 [==============================] - 3s 211ms/step - loss: 0.0768 - soft_acc: 0.9131 - val_loss: 0.0789 - val_soft_acc: 0.9425\n",
            "Epoch 102/200\n",
            "15/15 [==============================] - 3s 212ms/step - loss: 0.0776 - soft_acc: 0.9131 - val_loss: 0.0784 - val_soft_acc: 0.9421\n",
            "Epoch 103/200\n",
            "15/15 [==============================] - 3s 212ms/step - loss: 0.0781 - soft_acc: 0.9128 - val_loss: 0.0823 - val_soft_acc: 0.9411\n",
            "Epoch 104/200\n",
            "15/15 [==============================] - 3s 212ms/step - loss: 0.0777 - soft_acc: 0.9119 - val_loss: 0.0779 - val_soft_acc: 0.9404\n",
            "Epoch 105/200\n",
            "15/15 [==============================] - 3s 211ms/step - loss: 0.0773 - soft_acc: 0.9135 - val_loss: 0.0813 - val_soft_acc: 0.9419\n",
            "Epoch 106/200\n",
            "15/15 [==============================] - 3s 211ms/step - loss: 0.0879 - soft_acc: 0.9084 - val_loss: 0.0877 - val_soft_acc: 0.9384\n",
            "Epoch 107/200\n",
            "15/15 [==============================] - 3s 212ms/step - loss: 0.0791 - soft_acc: 0.9103 - val_loss: 0.0781 - val_soft_acc: 0.9412\n",
            "Epoch 108/200\n",
            "15/15 [==============================] - 3s 210ms/step - loss: 0.0773 - soft_acc: 0.9110 - val_loss: 0.0778 - val_soft_acc: 0.9405\n",
            "Epoch 109/200\n",
            "15/15 [==============================] - 3s 212ms/step - loss: 0.0766 - soft_acc: 0.9114 - val_loss: 0.0779 - val_soft_acc: 0.9406\n",
            "Epoch 110/200\n",
            "15/15 [==============================] - 3s 211ms/step - loss: 0.0756 - soft_acc: 0.9126 - val_loss: 0.0787 - val_soft_acc: 0.9416\n",
            "Epoch 111/200\n",
            "15/15 [==============================] - 3s 209ms/step - loss: 0.0779 - soft_acc: 0.9117 - val_loss: 0.0785 - val_soft_acc: 0.9409\n",
            "Epoch 112/200\n",
            "15/15 [==============================] - 3s 210ms/step - loss: 0.0796 - soft_acc: 0.9126 - val_loss: 0.0812 - val_soft_acc: 0.9392\n",
            "Epoch 113/200\n",
            "15/15 [==============================] - 3s 210ms/step - loss: 0.0773 - soft_acc: 0.9144 - val_loss: 0.0782 - val_soft_acc: 0.9399\n",
            "Epoch 114/200\n",
            "15/15 [==============================] - 3s 209ms/step - loss: 0.0751 - soft_acc: 0.9149 - val_loss: 0.0799 - val_soft_acc: 0.9414\n",
            "Epoch 115/200\n",
            "15/15 [==============================] - 3s 211ms/step - loss: 0.0774 - soft_acc: 0.9154 - val_loss: 0.0882 - val_soft_acc: 0.9384\n",
            "Epoch 116/200\n",
            "15/15 [==============================] - 3s 210ms/step - loss: 0.0788 - soft_acc: 0.9116 - val_loss: 0.0872 - val_soft_acc: 0.9373\n",
            "Epoch 117/200\n",
            "15/15 [==============================] - 3s 210ms/step - loss: 0.0771 - soft_acc: 0.9159 - val_loss: 0.0787 - val_soft_acc: 0.9402\n",
            "Epoch 118/200\n",
            "15/15 [==============================] - 3s 212ms/step - loss: 0.0757 - soft_acc: 0.9151 - val_loss: 0.0784 - val_soft_acc: 0.9393\n",
            "Epoch 119/200\n",
            "15/15 [==============================] - 3s 211ms/step - loss: 0.0744 - soft_acc: 0.9152 - val_loss: 0.0795 - val_soft_acc: 0.9425\n",
            "Epoch 120/200\n",
            "15/15 [==============================] - 3s 210ms/step - loss: 0.0745 - soft_acc: 0.9146 - val_loss: 0.0807 - val_soft_acc: 0.9381\n",
            "Epoch 121/200\n",
            "15/15 [==============================] - 3s 212ms/step - loss: 0.0768 - soft_acc: 0.9134 - val_loss: 0.0792 - val_soft_acc: 0.9390\n",
            "Epoch 122/200\n",
            "15/15 [==============================] - 3s 211ms/step - loss: 0.0754 - soft_acc: 0.9148 - val_loss: 0.0783 - val_soft_acc: 0.9402\n",
            "Epoch 123/200\n",
            "15/15 [==============================] - 3s 209ms/step - loss: 0.0752 - soft_acc: 0.9157 - val_loss: 0.0795 - val_soft_acc: 0.9425\n",
            "Epoch 124/200\n",
            "15/15 [==============================] - 3s 209ms/step - loss: 0.0744 - soft_acc: 0.9134 - val_loss: 0.0786 - val_soft_acc: 0.9398\n",
            "Epoch 125/200\n",
            "15/15 [==============================] - 3s 211ms/step - loss: 0.0742 - soft_acc: 0.9166 - val_loss: 0.0791 - val_soft_acc: 0.9413\n",
            "Epoch 126/200\n",
            "15/15 [==============================] - 3s 211ms/step - loss: 0.0737 - soft_acc: 0.9182 - val_loss: 0.0791 - val_soft_acc: 0.9428\n",
            "Epoch 127/200\n",
            "15/15 [==============================] - 3s 210ms/step - loss: 0.0739 - soft_acc: 0.9171 - val_loss: 0.0787 - val_soft_acc: 0.9399\n",
            "Epoch 128/200\n",
            "15/15 [==============================] - 3s 210ms/step - loss: 0.0749 - soft_acc: 0.9151 - val_loss: 0.0792 - val_soft_acc: 0.9410\n",
            "Epoch 129/200\n",
            "15/15 [==============================] - 3s 210ms/step - loss: 0.0725 - soft_acc: 0.9181 - val_loss: 0.0792 - val_soft_acc: 0.9402\n",
            "Epoch 130/200\n",
            "15/15 [==============================] - 3s 210ms/step - loss: 0.0779 - soft_acc: 0.9167 - val_loss: 0.0786 - val_soft_acc: 0.9405\n",
            "Epoch 131/200\n",
            "15/15 [==============================] - 3s 211ms/step - loss: 0.0762 - soft_acc: 0.9140 - val_loss: 0.0817 - val_soft_acc: 0.9410\n",
            "Epoch 132/200\n",
            "15/15 [==============================] - 3s 210ms/step - loss: 0.0765 - soft_acc: 0.9142 - val_loss: 0.0833 - val_soft_acc: 0.9418\n",
            "Epoch 133/200\n",
            "15/15 [==============================] - 3s 209ms/step - loss: 0.0743 - soft_acc: 0.9176 - val_loss: 0.0874 - val_soft_acc: 0.9396\n",
            "Epoch 134/200\n",
            "15/15 [==============================] - 3s 210ms/step - loss: 0.0743 - soft_acc: 0.9175 - val_loss: 0.0816 - val_soft_acc: 0.9414\n",
            "Epoch 135/200\n",
            "15/15 [==============================] - 3s 210ms/step - loss: 0.0759 - soft_acc: 0.9159 - val_loss: 0.0840 - val_soft_acc: 0.9422\n",
            "Epoch 136/200\n",
            "15/15 [==============================] - 3s 210ms/step - loss: 0.0763 - soft_acc: 0.9158 - val_loss: 0.0811 - val_soft_acc: 0.9407\n",
            "Epoch 137/200\n",
            "15/15 [==============================] - 3s 211ms/step - loss: 0.0730 - soft_acc: 0.9195 - val_loss: 0.0811 - val_soft_acc: 0.9414\n",
            "Epoch 138/200\n",
            "15/15 [==============================] - 3s 209ms/step - loss: 0.0722 - soft_acc: 0.9189 - val_loss: 0.0794 - val_soft_acc: 0.9390\n",
            "Epoch 139/200\n",
            "15/15 [==============================] - 3s 211ms/step - loss: 0.0740 - soft_acc: 0.9170 - val_loss: 0.0795 - val_soft_acc: 0.9414\n",
            "Epoch 140/200\n",
            "15/15 [==============================] - 3s 210ms/step - loss: 0.0711 - soft_acc: 0.9183 - val_loss: 0.0801 - val_soft_acc: 0.9387\n",
            "Epoch 141/200\n",
            "15/15 [==============================] - 3s 209ms/step - loss: 0.0714 - soft_acc: 0.9210 - val_loss: 0.0835 - val_soft_acc: 0.9399\n",
            "Epoch 142/200\n",
            "15/15 [==============================] - 3s 209ms/step - loss: 0.0754 - soft_acc: 0.9162 - val_loss: 0.0803 - val_soft_acc: 0.9417\n",
            "Epoch 143/200\n",
            "15/15 [==============================] - 3s 209ms/step - loss: 0.0762 - soft_acc: 0.9150 - val_loss: 0.0843 - val_soft_acc: 0.9396\n",
            "Epoch 144/200\n",
            "15/15 [==============================] - 3s 210ms/step - loss: 0.0717 - soft_acc: 0.9196 - val_loss: 0.0803 - val_soft_acc: 0.9403\n",
            "Epoch 145/200\n",
            "15/15 [==============================] - 3s 210ms/step - loss: 0.0728 - soft_acc: 0.9200 - val_loss: 0.0813 - val_soft_acc: 0.9411\n",
            "Epoch 146/200\n",
            "15/15 [==============================] - 3s 209ms/step - loss: 0.0718 - soft_acc: 0.9199 - val_loss: 0.0822 - val_soft_acc: 0.9400\n",
            "Epoch 147/200\n",
            "15/15 [==============================] - 3s 209ms/step - loss: 0.0708 - soft_acc: 0.9196 - val_loss: 0.0840 - val_soft_acc: 0.9392\n",
            "Epoch 148/200\n",
            "15/15 [==============================] - 3s 209ms/step - loss: 0.0704 - soft_acc: 0.9212 - val_loss: 0.0806 - val_soft_acc: 0.9407\n",
            "Epoch 149/200\n",
            "15/15 [==============================] - 3s 210ms/step - loss: 0.0704 - soft_acc: 0.9198 - val_loss: 0.0803 - val_soft_acc: 0.9406\n",
            "Epoch 150/200\n",
            "15/15 [==============================] - 3s 209ms/step - loss: 0.0718 - soft_acc: 0.9193 - val_loss: 0.0851 - val_soft_acc: 0.9384\n",
            "Epoch 151/200\n",
            "15/15 [==============================] - 3s 209ms/step - loss: 0.0708 - soft_acc: 0.9216 - val_loss: 0.0842 - val_soft_acc: 0.9388\n",
            "Epoch 152/200\n",
            "15/15 [==============================] - 3s 209ms/step - loss: 0.0753 - soft_acc: 0.9186 - val_loss: 0.0826 - val_soft_acc: 0.9422\n",
            "Epoch 153/200\n",
            "15/15 [==============================] - 3s 209ms/step - loss: 0.0752 - soft_acc: 0.9177 - val_loss: 0.0806 - val_soft_acc: 0.9391\n",
            "Epoch 154/200\n",
            "15/15 [==============================] - 3s 209ms/step - loss: 0.0719 - soft_acc: 0.9206 - val_loss: 0.0804 - val_soft_acc: 0.9395\n",
            "Epoch 155/200\n",
            "15/15 [==============================] - 3s 208ms/step - loss: 0.0701 - soft_acc: 0.9217 - val_loss: 0.0839 - val_soft_acc: 0.9396\n",
            "Epoch 156/200\n",
            "15/15 [==============================] - 3s 211ms/step - loss: 0.0703 - soft_acc: 0.9218 - val_loss: 0.0817 - val_soft_acc: 0.9415\n",
            "Epoch 157/200\n",
            "15/15 [==============================] - 3s 212ms/step - loss: 0.0690 - soft_acc: 0.9200 - val_loss: 0.0833 - val_soft_acc: 0.9381\n",
            "Epoch 158/200\n",
            "15/15 [==============================] - 3s 219ms/step - loss: 0.0721 - soft_acc: 0.9199 - val_loss: 0.0809 - val_soft_acc: 0.9403\n",
            "Epoch 159/200\n",
            "15/15 [==============================] - 4s 264ms/step - loss: 0.0713 - soft_acc: 0.9194 - val_loss: 0.0850 - val_soft_acc: 0.9399\n",
            "Epoch 160/200\n",
            "15/15 [==============================] - 3s 228ms/step - loss: 0.0718 - soft_acc: 0.9208 - val_loss: 0.0874 - val_soft_acc: 0.9376\n",
            "Epoch 161/200\n",
            "15/15 [==============================] - 3s 209ms/step - loss: 0.0732 - soft_acc: 0.9213 - val_loss: 0.0809 - val_soft_acc: 0.9392\n",
            "Epoch 162/200\n",
            "15/15 [==============================] - 3s 209ms/step - loss: 0.0688 - soft_acc: 0.9227 - val_loss: 0.0812 - val_soft_acc: 0.9395\n",
            "Epoch 163/200\n",
            "15/15 [==============================] - 3s 208ms/step - loss: 0.0699 - soft_acc: 0.9222 - val_loss: 0.0810 - val_soft_acc: 0.9406\n",
            "Epoch 164/200\n",
            "15/15 [==============================] - 3s 208ms/step - loss: 0.0722 - soft_acc: 0.9198 - val_loss: 0.0816 - val_soft_acc: 0.9403\n",
            "Epoch 165/200\n",
            "15/15 [==============================] - 3s 210ms/step - loss: 0.0709 - soft_acc: 0.9199 - val_loss: 0.0860 - val_soft_acc: 0.9407\n",
            "Epoch 166/200\n",
            "15/15 [==============================] - 3s 209ms/step - loss: 0.0703 - soft_acc: 0.9234 - val_loss: 0.0819 - val_soft_acc: 0.9425\n",
            "Epoch 167/200\n",
            "15/15 [==============================] - 3s 208ms/step - loss: 0.0702 - soft_acc: 0.9211 - val_loss: 0.0881 - val_soft_acc: 0.9367\n",
            "Epoch 168/200\n",
            "15/15 [==============================] - 3s 210ms/step - loss: 0.0722 - soft_acc: 0.9196 - val_loss: 0.0853 - val_soft_acc: 0.9391\n",
            "Epoch 169/200\n",
            "15/15 [==============================] - 3s 206ms/step - loss: 0.0735 - soft_acc: 0.9191 - val_loss: 0.0837 - val_soft_acc: 0.9407\n",
            "Epoch 170/200\n",
            "15/15 [==============================] - 3s 207ms/step - loss: 0.0734 - soft_acc: 0.9213 - val_loss: 0.0928 - val_soft_acc: 0.9385\n",
            "Epoch 171/200\n",
            "15/15 [==============================] - 3s 207ms/step - loss: 0.0899 - soft_acc: 0.9097 - val_loss: 0.0826 - val_soft_acc: 0.9385\n",
            "Epoch 172/200\n",
            "15/15 [==============================] - 3s 207ms/step - loss: 0.0786 - soft_acc: 0.9148 - val_loss: 0.1002 - val_soft_acc: 0.9357\n",
            "Epoch 173/200\n",
            "15/15 [==============================] - 3s 207ms/step - loss: 0.0792 - soft_acc: 0.9189 - val_loss: 0.0843 - val_soft_acc: 0.9403\n",
            "Epoch 174/200\n",
            "15/15 [==============================] - 3s 209ms/step - loss: 0.0701 - soft_acc: 0.9230 - val_loss: 0.0824 - val_soft_acc: 0.9395\n",
            "Epoch 175/200\n",
            "15/15 [==============================] - 3s 209ms/step - loss: 0.0688 - soft_acc: 0.9242 - val_loss: 0.0821 - val_soft_acc: 0.9407\n",
            "Epoch 176/200\n",
            "15/15 [==============================] - 3s 207ms/step - loss: 0.0697 - soft_acc: 0.9212 - val_loss: 0.0818 - val_soft_acc: 0.9391\n",
            "Epoch 177/200\n",
            "15/15 [==============================] - 3s 207ms/step - loss: 0.0676 - soft_acc: 0.9243 - val_loss: 0.0829 - val_soft_acc: 0.9395\n",
            "Epoch 178/200\n",
            "15/15 [==============================] - 3s 207ms/step - loss: 0.0671 - soft_acc: 0.9246 - val_loss: 0.0833 - val_soft_acc: 0.9392\n",
            "Epoch 179/200\n",
            "15/15 [==============================] - 3s 207ms/step - loss: 0.0674 - soft_acc: 0.9225 - val_loss: 0.0875 - val_soft_acc: 0.9381\n",
            "Epoch 180/200\n",
            "15/15 [==============================] - 3s 209ms/step - loss: 0.0668 - soft_acc: 0.9258 - val_loss: 0.0824 - val_soft_acc: 0.9399\n",
            "Epoch 181/200\n",
            "15/15 [==============================] - 3s 208ms/step - loss: 0.0693 - soft_acc: 0.9236 - val_loss: 0.0825 - val_soft_acc: 0.9403\n",
            "Epoch 182/200\n",
            "15/15 [==============================] - 3s 208ms/step - loss: 0.0684 - soft_acc: 0.9220 - val_loss: 0.0865 - val_soft_acc: 0.9377\n",
            "Epoch 183/200\n",
            "15/15 [==============================] - 3s 208ms/step - loss: 0.0667 - soft_acc: 0.9251 - val_loss: 0.0848 - val_soft_acc: 0.9399\n",
            "Epoch 184/200\n",
            "15/15 [==============================] - 3s 208ms/step - loss: 0.0679 - soft_acc: 0.9239 - val_loss: 0.0826 - val_soft_acc: 0.9390\n",
            "Epoch 185/200\n",
            "15/15 [==============================] - 3s 207ms/step - loss: 0.0702 - soft_acc: 0.9209 - val_loss: 0.0823 - val_soft_acc: 0.9396\n",
            "Epoch 186/200\n",
            "15/15 [==============================] - 3s 207ms/step - loss: 0.0661 - soft_acc: 0.9257 - val_loss: 0.0824 - val_soft_acc: 0.9402\n",
            "Epoch 187/200\n",
            "15/15 [==============================] - 3s 208ms/step - loss: 0.0656 - soft_acc: 0.9253 - val_loss: 0.0824 - val_soft_acc: 0.9403\n",
            "Epoch 188/200\n",
            "15/15 [==============================] - 3s 207ms/step - loss: 0.0658 - soft_acc: 0.9262 - val_loss: 0.0826 - val_soft_acc: 0.9390\n",
            "Epoch 189/200\n",
            "15/15 [==============================] - 3s 208ms/step - loss: 0.0656 - soft_acc: 0.9258 - val_loss: 0.0861 - val_soft_acc: 0.9384\n",
            "Epoch 190/200\n",
            "15/15 [==============================] - 3s 209ms/step - loss: 0.0668 - soft_acc: 0.9272 - val_loss: 0.0851 - val_soft_acc: 0.9393\n",
            "Epoch 191/200\n",
            "15/15 [==============================] - 3s 209ms/step - loss: 0.0669 - soft_acc: 0.9265 - val_loss: 0.0848 - val_soft_acc: 0.9396\n",
            "Epoch 192/200\n",
            "15/15 [==============================] - 3s 208ms/step - loss: 0.0670 - soft_acc: 0.9258 - val_loss: 0.0867 - val_soft_acc: 0.9388\n",
            "Epoch 193/200\n",
            "15/15 [==============================] - 3s 207ms/step - loss: 0.0673 - soft_acc: 0.9252 - val_loss: 0.0835 - val_soft_acc: 0.9386\n",
            "Epoch 194/200\n",
            "15/15 [==============================] - 3s 209ms/step - loss: 0.0668 - soft_acc: 0.9256 - val_loss: 0.0848 - val_soft_acc: 0.9396\n",
            "Epoch 195/200\n",
            "15/15 [==============================] - 3s 207ms/step - loss: 0.0664 - soft_acc: 0.9257 - val_loss: 0.0840 - val_soft_acc: 0.9407\n",
            "Epoch 196/200\n",
            "15/15 [==============================] - 3s 208ms/step - loss: 0.0665 - soft_acc: 0.9256 - val_loss: 0.0848 - val_soft_acc: 0.9399\n",
            "Epoch 197/200\n",
            "15/15 [==============================] - 3s 208ms/step - loss: 0.0666 - soft_acc: 0.9246 - val_loss: 0.0831 - val_soft_acc: 0.9379\n",
            "Epoch 198/200\n",
            "15/15 [==============================] - 3s 208ms/step - loss: 0.0661 - soft_acc: 0.9259 - val_loss: 0.0831 - val_soft_acc: 0.9394\n",
            "Epoch 199/200\n",
            "15/15 [==============================] - 3s 208ms/step - loss: 0.0681 - soft_acc: 0.9264 - val_loss: 0.0834 - val_soft_acc: 0.9390\n",
            "Epoch 200/200\n",
            "15/15 [==============================] - 3s 207ms/step - loss: 0.0658 - soft_acc: 0.9260 - val_loss: 0.0838 - val_soft_acc: 0.9395\n"
          ],
          "name": "stdout"
        }
      ]
    },
    {
      "cell_type": "markdown",
      "metadata": {
        "id": "Av1M_x4FFsOl",
        "colab_type": "text"
      },
      "source": [
        "5. Comparativa y validación de datos"
      ]
    },
    {
      "cell_type": "code",
      "metadata": {
        "id": "l_3IV0o6FxQY",
        "colab_type": "code",
        "colab": {
          "base_uri": "https://localhost:8080/",
          "height": 545
        },
        "outputId": "b748b9ac-120e-47ec-f90a-a5ef57d317ec"
      },
      "source": [
        "plt.scatter(range(len(y_val)),y_val,c='g',label='y_val')\n",
        "plt.scatter(range(len(results)),results,c='r',label='Results')\n",
        "plt.title('Scaled Data validation')\n",
        "if len(y_val)>2000:\n",
        "  plt.xlim(2000, 3000)\n",
        "plt.legend()\n",
        "plt.show()\n",
        "\n",
        "acc      = history.history[     'soft_acc' ]\n",
        "val_acc  = history.history[ 'val_soft_acc' ]\n",
        "loss     = history.history[    'loss' ]\n",
        "val_loss = history.history['val_loss' ]\n",
        "\n",
        "epochs   = range(1,len(acc)+1,1)\n",
        "\n",
        "compara = pd.DataFrame(np.array([y_val, [x[0] for x in results]])).transpose()\n",
        "compara.columns = ['real', 'prediccion']\n",
        "\n",
        "inverted = scaler.inverse_transform(compara.values)\n",
        "\n",
        "compara2 = pd.DataFrame(inverted)\n",
        "compara2.columns = ['real', 'prediccion']\n",
        "compara2['diferencia'] = compara2['real'] - compara2['prediccion']\n",
        "\n",
        "compara2['real'].plot(label='Real data' )\n",
        "compara2['prediccion'].plot(label='Prediction' )\n",
        "plt.title('Data validation')\n",
        "if len(y_val)>2000:\n",
        "  plt.xlim(2000, 3000)\n",
        "plt.legend()\n",
        "plt.show()"
      ],
      "execution_count": null,
      "outputs": [
        {
          "output_type": "display_data",
          "data": {
            "image/png": "[encoded data removed]",
            "text/plain": [
              "<Figure size 432x288 with 1 Axes>"
            ]
          },
          "metadata": {
            "tags": [],
            "needs_background": "light"
          }
        },
        {
          "output_type": "display_data",
          "data": {
            "image/png": "[encoded data removed]",
            "text/plain": [
              "<Figure size 432x288 with 1 Axes>"
            ]
          },
          "metadata": {
            "tags": [],
            "needs_background": "light"
          }
        }
      ]
    },
    {
      "cell_type": "markdown",
      "metadata": {
        "id": "qfiAUp7hF6Y_",
        "colab_type": "text"
      },
      "source": [
        "6. Métricas del modelo"
      ]
    },
    {
      "cell_type": "code",
      "metadata": {
        "id": "DZWhEqjwF-R4",
        "colab_type": "code",
        "colab": {
          "base_uri": "https://localhost:8080/",
          "height": 607
        },
        "outputId": "28e312c3-6da5-4978-dec6-907314c22556"
      },
      "source": [
        "plt.plot ( epochs,     acc, 'r--', label='Training acc'  )\n",
        "plt.plot ( epochs, val_acc,  'b', label='Validation acc')\n",
        "plt.title ('Training and validation accuracy')\n",
        "plt.ylabel('soft_acc')\n",
        "plt.xlabel('epochs')\n",
        "\n",
        "plt.legend()\n",
        "plt.figure()\n",
        "\n",
        "plt.plot ( epochs,     loss, 'r--', label='Training loss' )\n",
        "plt.plot ( epochs, val_loss ,  'b', label='Validation loss' )\n",
        "plt.title ('Training and validation loss'   )\n",
        "plt.ylabel('loss')\n",
        "plt.xlabel('epochs')\n",
        "\n",
        "plt.legend()\n",
        "plt.figure()"
      ],
      "execution_count": null,
      "outputs": [
        {
          "output_type": "execute_result",
          "data": {
            "text/plain": [
              "<Figure size 432x288 with 0 Axes>"
            ]
          },
          "metadata": {
            "tags": []
          },
          "execution_count": 20
        },
        {
          "output_type": "display_data",
          "data": {
            "image/png": "[encoded data removed]",
            "text/plain": [
              "<Figure size 432x288 with 1 Axes>"
            ]
          },
          "metadata": {
            "tags": [],
            "needs_background": "light"
          }
        },
        {
          "output_type": "display_data",
          "data": {
            "image/png": "[encoded data removed]",
            "text/plain": [
              "<Figure size 432x288 with 1 Axes>"
            ]
          },
          "metadata": {
            "tags": [],
            "needs_background": "light"
          }
        },
        {
          "output_type": "display_data",
          "data": {
            "text/plain": [
              "<Figure size 432x288 with 0 Axes>"
            ]
          },
          "metadata": {
            "tags": []
          }
        }
      ]
    },
    {
      "cell_type": "markdown",
      "metadata": {
        "id": "Fywb6PteG2tU",
        "colab_type": "text"
      },
      "source": [
        "7. Predicción de una semana completo **[Mayo]**"
      ]
    },
    {
      "cell_type": "code",
      "metadata": {
        "id": "3ggJXyTyPVRX",
        "colab_type": "code",
        "colab": {}
      },
      "source": [
        "def series_to_supervised(data, n_in=1, n_out=1, dropnan=True):\n",
        "    n_vars = 1 if type(data) is list else data.shape[1]\n",
        "    df = pd.DataFrame(data)\n",
        "    cols, names = list(), list()\n",
        "    # input sequence (t-n, ... t-1)\n",
        "    for i in range(n_in, 0, -1):\n",
        "        cols.append(df.shift(i))\n",
        "        names += [('var%d(t-%d)' % (j+1, i)) for j in range(n_vars)]\n",
        "    # forecast sequence (t, t+1, ... t+n)\n",
        "    for i in range(0, n_out):\n",
        "        cols.append(df.shift(-i))\n",
        "        if i == 0:\n",
        "            names += [('var%d(t)' % (j+1)) for j in range(n_vars)]\n",
        "        else:\n",
        "            names += [('var%d(t+%d)' % (j+1, i)) for j in range(n_vars)]\n",
        "    # put it all together\n",
        "    agg = pd.concat(cols, axis=1)\n",
        "    agg.columns = names\n",
        "    return agg"
      ],
      "execution_count": null,
      "outputs": []
    },
    {
      "cell_type": "code",
      "metadata": {
        "id": "27bgTVMiG1M6",
        "colab_type": "code",
        "colab": {
          "base_uri": "https://localhost:8080/",
          "height": 34
        },
        "outputId": "85250418-f260-494d-88c2-385d9b2ec7e5"
      },
      "source": [
        "import time\n",
        "import datetime\n",
        "# SELECIONAR FECHAS\n",
        "dfil = df[['datetime','P']].copy()\n",
        "ini=df[\"datetime\"][12315]\n",
        "fin=df[\"datetime\"][12987]\n",
        "mask = (dfil[\"datetime\"]>=ini) & (dfil[\"datetime\"]<fin)\n",
        "seq = dfil.loc[mask] \n",
        "dfd = seq\n",
        "values = dfd['P'].values\n",
        "values = values.astype('float32')\n",
        "# normalize features\n",
        "values=values.reshape(-1, 1)\n",
        "scaled = scaler.fit_transform(values)\n",
        "reframed = series_to_supervised(scaled, PASOS, 1)\n",
        "reframed.drop(reframed.columns[[672]], axis=1, inplace=True)\n",
        "values = reframed.values\n",
        "x_test = values[671:, :]\n",
        "x_test = x_test.reshape((x_test.shape[0], x_test.shape[1],1))\n",
        "print(x_test.shape)"
      ],
      "execution_count": null,
      "outputs": [
        {
          "output_type": "stream",
          "text": [
            "(1, 672, 1)\n"
          ],
          "name": "stdout"
        }
      ]
    },
    {
      "cell_type": "code",
      "metadata": {
        "id": "FPWCyscqHa4U",
        "colab_type": "code",
        "colab": {}
      },
      "source": [
        "results=[]\n",
        "for i in range(672):\n",
        "    parcial=model.predict(x_test)\n",
        "    results.append(parcial[0])\n",
        "    #print(x_test)\n",
        "    x_test=agregarNuevoValor(x_test,parcial[0])\n",
        "\n",
        "# SELECIONAR FECHAS\n",
        "\n",
        "dfil = df[['datetime','P']].copy()\n",
        "\n",
        "ini=df[\"datetime\"][12987]\n",
        "fin=df[\"datetime\"][13659]\n",
        "mask = (dfil[\"datetime\"]>=ini) & (dfil[\"datetime\"]<fin)\n",
        "seq = dfil.loc[mask] \n",
        "dfd = seq\n",
        "values = dfd['P'].values\n",
        "values = values.astype('float32')\n",
        "# normalize features\n",
        "values=values.reshape(-1, 1)\n",
        "y_val = scaler.fit_transform(values)\n",
        "compara = pd.DataFrame(np.array([y_val[:,0], [x[0] for x in results]])).transpose()\n",
        "compara.columns = ['real', 'prediccion']\n",
        "inverted = scaler.inverse_transform(compara.values)\n",
        "compara2 = pd.DataFrame(inverted)\n",
        "compara2.columns = ['real', 'prediccion']\n",
        "compara2['diferencia'] = compara2['real'] - compara2['prediccion']\n"
      ],
      "execution_count": null,
      "outputs": []
    },
    {
      "cell_type": "code",
      "metadata": {
        "id": "SUt6SnfzHt0o",
        "colab_type": "code",
        "colab": {
          "base_uri": "https://localhost:8080/",
          "height": 281
        },
        "outputId": "c6a0ca8b-6837-4619-a983-c477b72ac7a3"
      },
      "source": [
        "compara2['real'].plot(label='Real data' )\n",
        "compara2['prediccion'].plot(label='Prediction' )\n",
        "plt.title('Prediccion Mayo')\n",
        "plt.legend()\n",
        "plt.show()"
      ],
      "execution_count": null,
      "outputs": [
        {
          "output_type": "display_data",
          "data": {
            "image/png": "[encoded data removed]",
            "text/plain": [
              "<Figure size 432x288 with 1 Axes>"
            ]
          },
          "metadata": {
            "tags": [],
            "needs_background": "light"
          }
        }
      ]
    }
  ]
}