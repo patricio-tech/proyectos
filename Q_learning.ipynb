{
  "nbformat": 4,
  "nbformat_minor": 0,
  "metadata": {
    "colab": {
      "name": "Untitled26.ipynb",
      "provenance": [],
      "authorship_tag": "ABX9TyOqfyNsuCkGQjg71iZ5r/6k",
      "include_colab_link": true
    },
    "kernelspec": {
      "name": "python3",
      "display_name": "Python 3"
    }
  },
  "cells": [
    {
      "cell_type": "markdown",
      "metadata": {
        "id": "view-in-github",
        "colab_type": "text"
      },
      "source": [
        "<a href=\"https://colab.research.google.com/github/patricio-tech/proyectos/blob/master/Q_learning.ipynb\" target=\"_parent\"><img src=\"https://colab.research.google.com/assets/colab-badge.svg\" alt=\"Open In Colab\"/></a>"
      ]
    },
    {
      "cell_type": "code",
      "metadata": {
        "id": "2k4JZ87BxRtK"
      },
      "source": [
        "import gym\n",
        "import matplotlib.pyplot as plt\n",
        "import numpy as np\n",
        "import random\n",
        "from IPython.display import clear_output\n",
        "\n",
        "import warnings\n",
        "warnings.simplefilter('ignore')\n",
        "\n",
        "%matplotlib inline\n",
        "import seaborn as sns\n",
        "sns.set()"
      ],
      "execution_count": 1,
      "outputs": []
    },
    {
      "cell_type": "code",
      "metadata": {
        "id": "xdZPitTNywGh"
      },
      "source": [
        "#Fixing seed for reproducibility\n",
        "np.random.seed(0)"
      ],
      "execution_count": 2,
      "outputs": []
    },
    {
      "cell_type": "code",
      "metadata": {
        "id": "72x-quoC2ngv",
        "outputId": "04ecfe2f-0d13-429e-9f09-16aff6a71091",
        "colab": {
          "base_uri": "https://localhost:8080/"
        }
      },
      "source": [
        "#Loading and rendering the gym environment\n",
        "env = gym.make(\"Taxi-v3\").env\n",
        "env.reset()\n",
        "env.render()"
      ],
      "execution_count": 3,
      "outputs": [
        {
          "output_type": "stream",
          "text": [
            "+---------+\n",
            "|\u001b[34;1mR\u001b[0m: | : :G|\n",
            "| : | : :\u001b[43m \u001b[0m|\n",
            "| : : : : |\n",
            "| | : | : |\n",
            "|Y| : |\u001b[35mB\u001b[0m: |\n",
            "+---------+\n",
            "\n"
          ],
          "name": "stdout"
        }
      ]
    },
    {
      "cell_type": "code",
      "metadata": {
        "id": "gfKXeCUW20R4",
        "outputId": "e17aea8b-6653-466d-a2ad-eec4dcf72c16",
        "colab": {
          "base_uri": "https://localhost:8080/"
        }
      },
      "source": [
        "#Getting the state space\n",
        "print(\"Action Space {}\".format(env.action_space))\n",
        "print(\"State Space {}\".format(env.observation_space))"
      ],
      "execution_count": 4,
      "outputs": [
        {
          "output_type": "stream",
          "text": [
            "Action Space Discrete(6)\n",
            "State Space Discrete(500)\n"
          ],
          "name": "stdout"
        }
      ]
    },
    {
      "cell_type": "code",
      "metadata": {
        "id": "NXtCkXd73OqQ"
      },
      "source": [
        "#STEP 1 - Initializing the Q-table\n",
        "\n",
        "Q = np.zeros((env.observation_space.n, env.action_space.n))"
      ],
      "execution_count": 5,
      "outputs": []
    },
    {
      "cell_type": "code",
      "metadata": {
        "id": "9abRjAX83njW",
        "outputId": "cfaa6363-c980-40e6-e31c-1be54e711305",
        "colab": {
          "base_uri": "https://localhost:8080/"
        }
      },
      "source": [
        "Q"
      ],
      "execution_count": 6,
      "outputs": [
        {
          "output_type": "execute_result",
          "data": {
            "text/plain": [
              "array([[0., 0., 0., 0., 0., 0.],\n",
              "       [0., 0., 0., 0., 0., 0.],\n",
              "       [0., 0., 0., 0., 0., 0.],\n",
              "       ...,\n",
              "       [0., 0., 0., 0., 0., 0.],\n",
              "       [0., 0., 0., 0., 0., 0.],\n",
              "       [0., 0., 0., 0., 0., 0.]])"
            ]
          },
          "metadata": {
            "tags": []
          },
          "execution_count": 6
        }
      ]
    },
    {
      "cell_type": "code",
      "metadata": {
        "id": "7zRuvdSM5Doa"
      },
      "source": [
        "#Setting the hyperparameters\n",
        "              \n",
        "alpha = 0.7 #learning rate                 \n",
        "discount_factor = 0.618               \n",
        "epsilon = 1                  \n",
        "max_epsilon = 1\n",
        "min_epsilon = 0.01         \n",
        "decay = 0.01         \n",
        "\n",
        "train_episodes = 2000    \n",
        "test_episodes = 100          \n",
        "max_steps = 100"
      ],
      "execution_count": 7,
      "outputs": []
    },
    {
      "cell_type": "code",
      "metadata": {
        "id": "S5snVlvTzfHq"
      },
      "source": [
        "exp_exp_tradeoff = random.uniform(0, 1)"
      ],
      "execution_count": 8,
      "outputs": []
    },
    {
      "cell_type": "code",
      "metadata": {
        "id": "oElkpX8Zzv-r",
        "outputId": "c7b644f7-8041-4652-be44-ea2ebac4c384",
        "colab": {
          "base_uri": "https://localhost:8080/"
        }
      },
      "source": [
        "exp_exp_tradeoff"
      ],
      "execution_count": 9,
      "outputs": [
        {
          "output_type": "execute_result",
          "data": {
            "text/plain": [
              "0.507618871446979"
            ]
          },
          "metadata": {
            "tags": []
          },
          "execution_count": 9
        }
      ]
    },
    {
      "cell_type": "code",
      "metadata": {
        "id": "YEI2cEv40Ncp"
      },
      "source": [
        " action = env.action_space.sample()"
      ],
      "execution_count": 25,
      "outputs": []
    },
    {
      "cell_type": "code",
      "metadata": {
        "id": "_Oc-M0eN0QOL",
        "outputId": "fff440e8-b004-4790-dfcd-e57ada762aa3",
        "colab": {
          "base_uri": "https://localhost:8080/"
        }
      },
      "source": [
        "action"
      ],
      "execution_count": 26,
      "outputs": [
        {
          "output_type": "execute_result",
          "data": {
            "text/plain": [
              "1"
            ]
          },
          "metadata": {
            "tags": []
          },
          "execution_count": 26
        }
      ]
    },
    {
      "cell_type": "code",
      "metadata": {
        "id": "VXewax3F1UAT"
      },
      "source": [
        "new_state, reward, done, info = env.step(action)"
      ],
      "execution_count": 24,
      "outputs": []
    },
    {
      "cell_type": "code",
      "metadata": {
        "id": "Dr__EUpz1WIW"
      },
      "source": [
        ""
      ],
      "execution_count": null,
      "outputs": []
    },
    {
      "cell_type": "code",
      "metadata": {
        "id": "jO9FOXbK5SeK",
        "outputId": "11455113-dfcf-4c21-8ce0-e69442c0f22d",
        "colab": {
          "base_uri": "https://localhost:8080/"
        }
      },
      "source": [
        "#Training the agent\n",
        "\n",
        "#Creating lists to keep track of reward and epsilon values\n",
        "training_rewards = []  \n",
        "epsilons = []\n",
        "\n",
        "for episode in range(train_episodes):\n",
        "    #Reseting the environment each time as per requirement\n",
        "    state = env.reset()    \n",
        "    #Starting the tracker for the rewards\n",
        "    total_training_rewards = 0\n",
        "    \n",
        "    for step in range(100):\n",
        "        #Choosing an action given the states based on a random number\n",
        "        exp_exp_tradeoff = random.uniform(0, 1) \n",
        "        \n",
        "        \n",
        "        ### STEP 2: SECOND option for choosing the initial action - exploit     \n",
        "        #If the random number is larger than epsilon: employing exploitation \n",
        "        #and selecting best action \n",
        "        if exp_exp_tradeoff > epsilon:\n",
        "            action = np.argmax(Q[state,:])      \n",
        "            \n",
        "        ### STEP 2: FIRST option for choosing the initial action - explore       \n",
        "        #Otherwise, employing exploration: choosing a random action \n",
        "        else:\n",
        "            action = env.action_space.sample()\n",
        "            \n",
        "            \n",
        "        ### STEPs 3 & 4: performing the action and getting the reward     \n",
        "        #Taking the action and getting the reward and outcome state\n",
        "        new_state, reward, done, info = env.step(action)\n",
        "        \n",
        "\n",
        "        ### STEP 5: update the Q-table\n",
        "        #Updating the Q-table using the Bellman equation\n",
        "        Q[state, action] = Q[state, action] + alpha * (reward + discount_factor * np.max(Q[new_state, :]) - Q[state, action]) \n",
        "        #Increasing our total reward and updating the state\n",
        "        total_training_rewards += reward      \n",
        "        state = new_state         \n",
        "        \n",
        "        #Ending the episode\n",
        "        if done == True:\n",
        "            #print (\"Total reward for episode {}: {}\".format(episode, total_training_rewards))\n",
        "            break\n",
        "    \n",
        "    #Cutting down on exploration by reducing the epsilon \n",
        "    epsilon = min_epsilon + (max_epsilon - min_epsilon)*np.exp(-decay*episode)\n",
        "    \n",
        "    #Adding the total reward and reduced epsilon values\n",
        "    training_rewards.append(total_training_rewards)\n",
        "    epsilons.append(epsilon)\n",
        "    \n",
        "    \n",
        "\n",
        "print (\"Training score over time: \" + str(sum(training_rewards)/train_episodes))"
      ],
      "execution_count": 23,
      "outputs": [
        {
          "output_type": "stream",
          "text": [
            "Training score over time: -0.729\n"
          ],
          "name": "stdout"
        }
      ]
    },
    {
      "cell_type": "code",
      "metadata": {
        "id": "PSQ7k3me84P-",
        "outputId": "5dabc2ae-2d8d-4f78-f254-ef7d3057e209",
        "colab": {
          "base_uri": "https://localhost:8080/"
        }
      },
      "source": [
        "Q"
      ],
      "execution_count": 19,
      "outputs": [
        {
          "output_type": "execute_result",
          "data": {
            "text/plain": [
              "array([[  0.        ,   0.        ,   0.        ,   0.        ,\n",
              "          0.        ,   0.        ],\n",
              "       [ -2.48106333,  -2.48709868,  -2.50407779,  -2.43549914,\n",
              "         -2.32039715, -10.74158264],\n",
              "       [ -1.94864194,  -2.22052773,  -2.28226236,  -2.28333049,\n",
              "         -0.57891593, -11.1283794 ],\n",
              "       ...,\n",
              "       [ -1.9076998 ,  -1.88991996,  -1.86374384,  -2.07126666,\n",
              "        -10.03282   ,  -7.        ],\n",
              "       [ -2.41413305,  -2.34455754,  -2.38082837,  -2.43114328,\n",
              "         -7.        ,  -9.73      ],\n",
              "       [ -1.21282   ,  -1.21282   ,  -1.21282   ,  10.2557    ,\n",
              "         -7.        ,  -7.        ]])"
            ]
          },
          "metadata": {
            "tags": []
          },
          "execution_count": 19
        }
      ]
    },
    {
      "cell_type": "code",
      "metadata": {
        "id": "Ltq5cw9g9Hvr",
        "outputId": "86997437-ebd9-4f6a-ffb1-d5adbe8a7b74",
        "colab": {
          "base_uri": "https://localhost:8080/",
          "height": 301
        }
      },
      "source": [
        "#Visualizing results and total reward over all episodes\n",
        "x = range(train_episodes)\n",
        "plt.plot(x, training_rewards)\n",
        "plt.xlabel('Episode')\n",
        "plt.ylabel('Training total reward')\n",
        "plt.title('Total rewards over all episodes in training') \n",
        "plt.show()"
      ],
      "execution_count": 20,
      "outputs": [
        {
          "output_type": "display_data",
          "data": {
            "image/png": "[encoded data removed]",
            "text/plain": [
              "<Figure size 432x288 with 1 Axes>"
            ]
          },
          "metadata": {
            "tags": [],
            "needs_background": "light"
          }
        }
      ]
    },
    {
      "cell_type": "code",
      "metadata": {
        "id": "vXhkrV7X9bXp",
        "outputId": "e828acc7-6b7e-4045-8d38-d82ac53df2fb",
        "colab": {
          "base_uri": "https://localhost:8080/",
          "height": 301
        }
      },
      "source": [
        "#Visualizing the epsilons over all episodes\n",
        "plt.plot(epsilons)\n",
        "plt.xlabel('Episode')\n",
        "plt.ylabel('Epsilon')\n",
        "plt.title(\"Epsilon for episode\")\n",
        "plt.show()"
      ],
      "execution_count": 21,
      "outputs": [
        {
          "output_type": "display_data",
          "data": {
            "image/png": "[encoded data removed]",
            "text/plain": [
              "<Figure size 432x288 with 1 Axes>"
            ]
          },
          "metadata": {
            "tags": [],
            "needs_background": "light"
          }
        }
      ]
    }
  ]
}