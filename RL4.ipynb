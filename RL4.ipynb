{
  "nbformat": 4,
  "nbformat_minor": 0,
  "metadata": {
    "colab": {
      "name": "Untitled48.ipynb",
      "provenance": [],
      "authorship_tag": "ABX9TyMpSWkjp6xYVxEON9NSz9c0",
      "include_colab_link": true
    },
    "kernelspec": {
      "name": "python3",
      "display_name": "Python 3"
    },
    "language_info": {
      "name": "python"
    }
  },
  "cells": [
    {
      "cell_type": "markdown",
      "metadata": {
        "id": "view-in-github",
        "colab_type": "text"
      },
      "source": [
        "<a href=\"https://colab.research.google.com/github/patricio-tech/proyectos/blob/master/RL4.ipynb\" target=\"_parent\"><img src=\"https://colab.research.google.com/assets/colab-badge.svg\" alt=\"Open In Colab\"/></a>"
      ]
    },
    {
      "cell_type": "markdown",
      "metadata": {
        "id": "GErpUox0jgcW"
      },
      "source": [
        "## **Monte Carlo Methods**"
      ]
    },
    {
      "cell_type": "markdown",
      "metadata": {
        "id": "cpkmSBqKjoVX"
      },
      "source": [
        "**Exploration-Explanation Dilemma**"
      ]
    },
    {
      "cell_type": "code",
      "metadata": {
        "colab": {
          "base_uri": "https://localhost:8080/"
        },
        "id": "HJ4F1fuakj9L",
        "outputId": "757cdc01-75b2-4b58-851f-89626cbab77e"
      },
      "source": [
        "import sys\n",
        "import gym\n",
        "import numpy as np\n",
        "from collections import defaultdict\n",
        "env = gym.make('Blackjack-v0')\n",
        "print(env.observation_space)\n",
        "print(env.action_space)"
      ],
      "execution_count": 1,
      "outputs": [
        {
          "output_type": "stream",
          "text": [
            "Tuple(Discrete(32), Discrete(11), Discrete(2))\n",
            "Discrete(2)\n"
          ],
          "name": "stdout"
        }
      ]
    },
    {
      "cell_type": "code",
      "metadata": {
        "colab": {
          "base_uri": "https://localhost:8080/"
        },
        "id": "6Pzm5V-ik_mw",
        "outputId": "39d22995-93a9-4630-8b02-fd3f7c74e0a6"
      },
      "source": [
        "state = env.reset()\n",
        "while True:\n",
        "       print('state:', state)\n",
        "       action = env.action_space.sample()\n",
        "       print('action: ', action) \n",
        "       state, reward, done, info = env.step(action)\n",
        "       if done:\n",
        "          if reward > 0: \n",
        "             print('Reward: ', reward)                 \n",
        "          else: \n",
        "             print('Reward: ', reward)\n",
        "          break"
      ],
      "execution_count": 9,
      "outputs": [
        {
          "output_type": "stream",
          "text": [
            "state: (20, 9, False)\n",
            "action:  0\n",
            "Reward:  1.0\n"
          ],
          "name": "stdout"
        }
      ]
    },
    {
      "cell_type": "code",
      "metadata": {
        "id": "mPl3t-j5ljz5"
      },
      "source": [
        "def generate_episode(env):\n",
        "    episode = []\n",
        "    state = env.reset()\n",
        "    while True:\n",
        "        probs = [0.75, 0.25] if state[0] > 18 else [0.25, 0.75]\n",
        "        action = np.random.choice(np.arange(2), p=probs)\n",
        "        next_state, reward, done, info = env.step(action)\n",
        "        episode.append((state, action, reward))\n",
        "        state = next_state\n",
        "        if done:\n",
        "            break\n",
        "    return episode"
      ],
      "execution_count": 10,
      "outputs": []
    },
    {
      "cell_type": "code",
      "metadata": {
        "colab": {
          "base_uri": "https://localhost:8080/"
        },
        "id": "N0GbLKQ_nuaT",
        "outputId": "b6837e21-1775-49b8-96ff-5a64359a6665"
      },
      "source": [
        "for i in range(10):\n",
        "    print(generate_episode(env))"
      ],
      "execution_count": 11,
      "outputs": [
        {
          "output_type": "stream",
          "text": [
            "[((16, 8, True), 1, 0.0), ((16, 8, False), 1, -1.0)]\n",
            "[((21, 10, True), 0, 1.0)]\n",
            "[((14, 3, False), 0, -1.0)]\n",
            "[((15, 2, False), 1, 0.0), ((17, 2, False), 1, 0.0), ((21, 2, False), 0, 1.0)]\n",
            "[((17, 10, False), 0, 1.0)]\n",
            "[((17, 10, True), 0, -1.0)]\n",
            "[((15, 3, True), 1, 0.0), ((17, 3, True), 1, 0.0), ((19, 3, True), 0, 1.0)]\n",
            "[((15, 10, True), 1, 0.0), ((16, 10, True), 0, -1.0)]\n",
            "[((15, 1, False), 0, -1.0)]\n",
            "[((20, 7, False), 0, -1.0)]\n"
          ],
          "name": "stdout"
        }
      ]
    }
  ]
}