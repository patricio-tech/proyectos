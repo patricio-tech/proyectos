{
  "nbformat": 4,
  "nbformat_minor": 0,
  "metadata": {
    "colab": {
      "name": "Untitled8.ipynb",
      "provenance": [],
      "authorship_tag": "ABX9TyPXYZxbR4BOV2RwAaE2Irun",
      "include_colab_link": true
    },
    "kernelspec": {
      "name": "python3",
      "display_name": "Python 3"
    }
  },
  "cells": [
    {
      "cell_type": "markdown",
      "metadata": {
        "id": "view-in-github",
        "colab_type": "text"
      },
      "source": [
        "<a href=\"https://colab.research.google.com/github/patricio-tech/proyectos/blob/master/RLIA.ipynb\" target=\"_parent\"><img src=\"https://colab.research.google.com/assets/colab-badge.svg\" alt=\"Open In Colab\"/></a>"
      ]
    },
    {
      "cell_type": "code",
      "metadata": {
        "id": "pIpbCyQSalMc"
      },
      "source": [
        "import numpy as np\n",
        "\n",
        "# R matrix\n",
        "R = np.matrix([ [-1,-1,-1,-1,0,-1],\n",
        "\t\t[-1,-1,-1,0,-1,100],\n",
        "\t\t[-1,-1,-1,0,-1,-1],\n",
        "\t\t[-1,0,0,-1,0,-1],\n",
        "\t\t[-1,0,0,-1,-1,100],\n",
        "\t\t[-1,0,-1,-1,0,100] ])"
      ],
      "execution_count": 1,
      "outputs": []
    },
    {
      "cell_type": "code",
      "metadata": {
        "id": "iyfjnodja-Xn"
      },
      "source": [
        "# Q matrix\n",
        "Q = np.matrix(np.zeros([6,6]))"
      ],
      "execution_count": 2,
      "outputs": []
    },
    {
      "cell_type": "code",
      "metadata": {
        "id": "kicBX91qbFH2",
        "outputId": "bf8948ad-2604-41b0-d587-9a5307d22054",
        "colab": {
          "base_uri": "https://localhost:8080/",
          "height": 121
        }
      },
      "source": [
        "Q"
      ],
      "execution_count": 3,
      "outputs": [
        {
          "output_type": "execute_result",
          "data": {
            "text/plain": [
              "matrix([[0., 0., 0., 0., 0., 0.],\n",
              "        [0., 0., 0., 0., 0., 0.],\n",
              "        [0., 0., 0., 0., 0., 0.],\n",
              "        [0., 0., 0., 0., 0., 0.],\n",
              "        [0., 0., 0., 0., 0., 0.],\n",
              "        [0., 0., 0., 0., 0., 0.]])"
            ]
          },
          "metadata": {
            "tags": []
          },
          "execution_count": 3
        }
      ]
    },
    {
      "cell_type": "code",
      "metadata": {
        "id": "4adQn7XibMb-"
      },
      "source": [
        "# Gamma (learning parameter).\n",
        "gamma = 0.8\n",
        "\n",
        "# Initial state. (Usually to be chosen at random)\n",
        "initial_state = 1"
      ],
      "execution_count": 4,
      "outputs": []
    },
    {
      "cell_type": "code",
      "metadata": {
        "id": "D7oTXluQi_Q6"
      },
      "source": [
        "# This function returns all available actions in the state given as an argument\n",
        "def available_actions(state):\n",
        "    current_state_row = R[state,]\n",
        "    av_act = np.where(current_state_row >= 0)[1]\n",
        "    return av_act"
      ],
      "execution_count": 7,
      "outputs": []
    },
    {
      "cell_type": "code",
      "metadata": {
        "id": "_yBdR0W_sHkg"
      },
      "source": [
        "# Get available actions in the current state\n",
        "available_act = available_actions(initial_state) "
      ],
      "execution_count": 8,
      "outputs": []
    },
    {
      "cell_type": "code",
      "metadata": {
        "id": "mwFNxJBAscPs",
        "outputId": "8de20932-af91-4ea8-c368-c0c94c679e29",
        "colab": {
          "base_uri": "https://localhost:8080/",
          "height": 34
        }
      },
      "source": [
        "available_act"
      ],
      "execution_count": 9,
      "outputs": [
        {
          "output_type": "execute_result",
          "data": {
            "text/plain": [
              "array([3, 5])"
            ]
          },
          "metadata": {
            "tags": []
          },
          "execution_count": 9
        }
      ]
    },
    {
      "cell_type": "code",
      "metadata": {
        "id": "vPgczXGXsx7o"
      },
      "source": [
        "# This function chooses at random which action to be performed within the range \n",
        "# of all the available actions.\n",
        "def sample_next_action(available_actions_range):\n",
        "    next_action = int(np.random.choice(available_act,1))\n",
        "    return next_action"
      ],
      "execution_count": 12,
      "outputs": []
    },
    {
      "cell_type": "code",
      "metadata": {
        "id": "jsG6pVO-tbFt"
      },
      "source": [
        "# Sample next action to be performed\n",
        "action = sample_next_action(available_act)"
      ],
      "execution_count": 18,
      "outputs": []
    },
    {
      "cell_type": "code",
      "metadata": {
        "id": "K2nZyPVGtdmi",
        "outputId": "9071f77c-075b-4856-c7b9-384ac9777cc3",
        "colab": {
          "base_uri": "https://localhost:8080/",
          "height": 34
        }
      },
      "source": [
        "action"
      ],
      "execution_count": 19,
      "outputs": [
        {
          "output_type": "execute_result",
          "data": {
            "text/plain": [
              "3"
            ]
          },
          "metadata": {
            "tags": []
          },
          "execution_count": 19
        }
      ]
    },
    {
      "cell_type": "code",
      "metadata": {
        "id": "HFeJ5z-muBG2"
      },
      "source": [
        "# This function updates the Q matrix according to the path selected and the Q \n",
        "# learning algorithm\n",
        "def update(current_state, action, gamma):\n",
        "    \n",
        "    max_index = np.where(Q[action,] == np.max(Q[action,]))[1]\n",
        "\n",
        "    if max_index.shape[0] > 1:\n",
        "        max_index = int(np.random.choice(max_index, size = 1))\n",
        "    else:\n",
        "        max_index = int(max_index)\n",
        "    max_value = Q[action, max_index]\n",
        "    \n",
        "    # Q learning formula\n",
        "    Q[current_state, action] = R[current_state, action] + gamma * max_value"
      ],
      "execution_count": 20,
      "outputs": []
    },
    {
      "cell_type": "code",
      "metadata": {
        "id": "yyk1dIPMuO5x"
      },
      "source": [
        "# Update Q matrix\n",
        "update(initial_state,action,gamma)"
      ],
      "execution_count": 21,
      "outputs": []
    },
    {
      "cell_type": "code",
      "metadata": {
        "id": "DJP7BPTMu1RR",
        "outputId": "aaf43219-36e2-4458-b7e5-b3a14575a057",
        "colab": {
          "base_uri": "https://localhost:8080/",
          "height": 138
        }
      },
      "source": [
        "# Training\n",
        "\n",
        "# Train over 10 000 iterations. (Re-iterate the process above).\n",
        "for i in range(10000):\n",
        "    current_state = np.random.randint(0, int(Q.shape[0]))\n",
        "    available_act = available_actions(current_state)\n",
        "    action = sample_next_action(available_act)\n",
        "    update(current_state,action,gamma)\n",
        "    \n",
        "# Normalize the \"trained\" Q matrix\n",
        "print(\"Trained Q matrix:\")\n",
        "print(Q/np.max(Q)*100)"
      ],
      "execution_count": 23,
      "outputs": [
        {
          "output_type": "stream",
          "text": [
            "Trained Q matrix:\n",
            "[[  0.    0.    0.    0.   80.    0. ]\n",
            " [  0.    0.    0.   64.    0.  100. ]\n",
            " [  0.    0.    0.   64.    0.    0. ]\n",
            " [  0.   80.   51.2   0.   80.    0. ]\n",
            " [  0.   80.   51.2   0.    0.  100. ]\n",
            " [  0.   80.    0.    0.   80.  100. ]]\n"
          ],
          "name": "stdout"
        }
      ]
    },
    {
      "cell_type": "code",
      "metadata": {
        "id": "V3BJODX8vsJJ",
        "outputId": "21a15bc5-5e3c-43c0-ebe2-a9f3965b2551",
        "colab": {
          "base_uri": "https://localhost:8080/",
          "height": 51
        }
      },
      "source": [
        "# Testing\n",
        "\n",
        "# Goal state = 5\n",
        "# Best sequence path starting from 2 -> 2, 3, 1, 5\n",
        "\n",
        "current_state = 4\n",
        "steps = [current_state]\n",
        "\n",
        "while current_state != 5:\n",
        "\n",
        "    next_step_index = np.where(Q[current_state,] == np.max(Q[current_state,]))[1]\n",
        "    \n",
        "    if next_step_index.shape[0] > 1:\n",
        "        next_step_index = int(np.random.choice(next_step_index, size = 1))\n",
        "    else:\n",
        "        next_step_index = int(next_step_index)\n",
        "    \n",
        "    steps.append(next_step_index)\n",
        "    current_state = next_step_index\n",
        "\n",
        "# Print selected sequence of steps\n",
        "print(\"Selected path:\")\n",
        "print(steps)"
      ],
      "execution_count": 26,
      "outputs": [
        {
          "output_type": "stream",
          "text": [
            "Selected path:\n",
            "[4, 5]\n"
          ],
          "name": "stdout"
        }
      ]
    },
    {
      "cell_type": "code",
      "metadata": {
        "id": "7IU4Itzdv_gZ",
        "outputId": "38f7ec75-7264-44c0-95f9-c07fb6a02bd6",
        "colab": {
          "base_uri": "https://localhost:8080/",
          "height": 121
        }
      },
      "source": [
        "Q"
      ],
      "execution_count": 27,
      "outputs": [
        {
          "output_type": "execute_result",
          "data": {
            "text/plain": [
              "matrix([[  0.,   0.,   0.,   0., 400.,   0.],\n",
              "        [  0.,   0.,   0., 320.,   0., 500.],\n",
              "        [  0.,   0.,   0., 320.,   0.,   0.],\n",
              "        [  0., 400., 256.,   0., 400.,   0.],\n",
              "        [  0., 400., 256.,   0.,   0., 500.],\n",
              "        [  0., 400.,   0.,   0., 400., 500.]])"
            ]
          },
          "metadata": {
            "tags": []
          },
          "execution_count": 27
        }
      ]
    }
  ]
}