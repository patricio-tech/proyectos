{
  "nbformat": 4,
  "nbformat_minor": 0,
  "metadata": {
    "colab": {
      "name": "Untitled8.ipynb",
      "provenance": [],
      "authorship_tag": "ABX9TyNllE8VRCsQcZ5lq2Gjwi5D",
      "include_colab_link": true
    },
    "kernelspec": {
      "name": "python3",
      "display_name": "Python 3"
    }
  },
  "cells": [
    {
      "cell_type": "markdown",
      "metadata": {
        "id": "view-in-github",
        "colab_type": "text"
      },
      "source": [
        "<a href=\"https://colab.research.google.com/github/patricio-tech/proyectos/blob/master/RLIA.ipynb\" target=\"_parent\"><img src=\"https://colab.research.google.com/assets/colab-badge.svg\" alt=\"Open In Colab\"/></a>"
      ]
    },
    {
      "cell_type": "code",
      "metadata": {
        "id": "pIpbCyQSalMc"
      },
      "source": [
        "import numpy as np\n",
        "\n",
        "# R matrix\n",
        "R = np.matrix([ [-1,-1,-1,-1,0,-1],\n",
        "\t\t[-1,-1,-1,0,-1,100],\n",
        "\t\t[-1,-1,-1,0,-1,-1],\n",
        "\t\t[-1,0,0,-1,0,-1],\n",
        "\t\t[-1,0,0,-1,-1,100],\n",
        "\t\t[-1,0,-1,-1,0,100] ])"
      ],
      "execution_count": 39,
      "outputs": []
    },
    {
      "cell_type": "code",
      "metadata": {
        "id": "iyfjnodja-Xn"
      },
      "source": [
        "# Q matrix\n",
        "Q = np.matrix(np.zeros([6,6]))"
      ],
      "execution_count": 40,
      "outputs": []
    },
    {
      "cell_type": "code",
      "metadata": {
        "id": "kicBX91qbFH2",
        "outputId": "2145f253-9c86-4e72-e247-706c51aac6a2",
        "colab": {
          "base_uri": "https://localhost:8080/",
          "height": 121
        }
      },
      "source": [
        "Q"
      ],
      "execution_count": 41,
      "outputs": [
        {
          "output_type": "execute_result",
          "data": {
            "text/plain": [
              "matrix([[0., 0., 0., 0., 0., 0.],\n",
              "        [0., 0., 0., 0., 0., 0.],\n",
              "        [0., 0., 0., 0., 0., 0.],\n",
              "        [0., 0., 0., 0., 0., 0.],\n",
              "        [0., 0., 0., 0., 0., 0.],\n",
              "        [0., 0., 0., 0., 0., 0.]])"
            ]
          },
          "metadata": {
            "tags": []
          },
          "execution_count": 41
        }
      ]
    },
    {
      "cell_type": "code",
      "metadata": {
        "id": "4adQn7XibMb-"
      },
      "source": [
        "# Gamma (learning parameter).\n",
        "gamma = 0.8\n",
        "\n",
        "# Initial state. (Usually to be chosen at random)\n",
        "initial_state = 1"
      ],
      "execution_count": 42,
      "outputs": []
    },
    {
      "cell_type": "code",
      "metadata": {
        "id": "D7oTXluQi_Q6"
      },
      "source": [
        "# This function returns all available actions in the state given as an argument\n",
        "def available_actions(state):\n",
        "    current_state_row = R[state,]\n",
        "    av_act = np.where(current_state_row >= 0)[1]\n",
        "    return av_act"
      ],
      "execution_count": null,
      "outputs": []
    },
    {
      "cell_type": "code",
      "metadata": {
        "id": "WS2niWBEb_eo"
      },
      "source": [
        "# This function chooses at random which action to be performed within the range \n",
        "# of all the available actions.\n",
        "def sample_next_action(available_actions_range):\n",
        "    next_action = int(np.random.choice(available_act,1))\n",
        "    return next_action"
      ],
      "execution_count": 45,
      "outputs": []
    },
    {
      "cell_type": "code",
      "metadata": {
        "id": "vzibT3QWbk_z"
      },
      "source": [
        "# Get available actions in the current state\n",
        "available_act = available_actions(initial_state) "
      ],
      "execution_count": 44,
      "outputs": []
    },
    {
      "cell_type": "code",
      "metadata": {
        "id": "EyHN3hNocTEh"
      },
      "source": [
        "# Sample next action to be performed\n",
        "action = sample_next_action(available_act)"
      ],
      "execution_count": 46,
      "outputs": []
    },
    {
      "cell_type": "code",
      "metadata": {
        "id": "UMssHjdUcVD7"
      },
      "source": [
        "# This function updates the Q matrix according to the path selected and the Q \n",
        "# learning algorithm\n",
        "def update(current_state, action, gamma):\n",
        "    \n",
        "    max_index = np.where(Q[action,] == np.max(Q[action,]))[1]\n",
        "\n",
        "    if max_index.shape[0] > 1:\n",
        "        max_index = int(np.random.choice(max_index, size = 1))\n",
        "    else:\n",
        "        max_index = int(max_index)\n",
        "    max_value = Q[action, max_index]\n",
        "    \n",
        "    # Q learning formula\n",
        "    Q[current_state, action] = R[current_state, action] + gamma * max_value\n",
        "\n",
        "# Update Q matrix\n",
        "update(initial_state,action,gamma)"
      ],
      "execution_count": 47,
      "outputs": []
    },
    {
      "cell_type": "code",
      "metadata": {
        "id": "-_1CoUMJcf8v",
        "outputId": "3dd4d2f3-9b27-4fa5-beb1-a226ececa2d7",
        "colab": {
          "base_uri": "https://localhost:8080/",
          "height": 138
        }
      },
      "source": [
        "# Training\n",
        "\n",
        "# Train over 10 000 iterations. (Re-iterate the process above).\n",
        "for i in range(10000):\n",
        "    current_state = np.random.randint(0, int(Q.shape[0]))\n",
        "    available_act = available_actions(current_state)\n",
        "    action = sample_next_action(available_act)\n",
        "    update(current_state,action,gamma)\n",
        "    \n",
        "# Normalize the \"trained\" Q matrix\n",
        "print(\"Trained Q matrix:\")\n",
        "print(Q/np.max(Q)*100)"
      ],
      "execution_count": 48,
      "outputs": [
        {
          "output_type": "stream",
          "text": [
            "Trained Q matrix:\n",
            "[[  0.    0.    0.    0.   80.    0. ]\n",
            " [  0.    0.    0.   64.    0.  100. ]\n",
            " [  0.    0.    0.   64.    0.    0. ]\n",
            " [  0.   80.   51.2   0.   80.    0. ]\n",
            " [  0.   80.   51.2   0.    0.  100. ]\n",
            " [  0.   80.    0.    0.   80.  100. ]]\n"
          ],
          "name": "stdout"
        }
      ]
    },
    {
      "cell_type": "code",
      "metadata": {
        "id": "34G3fKBOcvF9",
        "outputId": "b2018708-b00f-4c01-e920-7c7ce7a680f0",
        "colab": {
          "base_uri": "https://localhost:8080/",
          "height": 51
        }
      },
      "source": [
        "# Testing\n",
        "\n",
        "# Goal state = 5\n",
        "# Best sequence path starting from 2 -> 2, 3, 1, 5\n",
        "\n",
        "current_state = 3\n",
        "steps = [current_state]\n",
        "\n",
        "while current_state != 5:\n",
        "\n",
        "    next_step_index = np.where(Q[current_state,] == np.max(Q[current_state,]))[1]\n",
        "    \n",
        "    if next_step_index.shape[0] > 1:\n",
        "        next_step_index = int(np.random.choice(next_step_index, size = 1))\n",
        "    else:\n",
        "        next_step_index = int(next_step_index)\n",
        "    \n",
        "    steps.append(next_step_index)\n",
        "    current_state = next_step_index\n",
        "\n",
        "# Print selected sequence of steps\n",
        "print(\"Selected path:\")\n",
        "print(steps)"
      ],
      "execution_count": 49,
      "outputs": [
        {
          "output_type": "stream",
          "text": [
            "Selected path:\n",
            "[3, 4, 5]\n"
          ],
          "name": "stdout"
        }
      ]
    },
    {
      "cell_type": "code",
      "metadata": {
        "id": "82xAdwk4exnb",
        "outputId": "327bc835-afc5-4dca-e6d0-7f317fbc682f",
        "colab": {
          "base_uri": "https://localhost:8080/",
          "height": 121
        }
      },
      "source": [
        "Q"
      ],
      "execution_count": 50,
      "outputs": [
        {
          "output_type": "execute_result",
          "data": {
            "text/plain": [
              "matrix([[  0.,   0.,   0.,   0., 400.,   0.],\n",
              "        [  0.,   0.,   0., 320.,   0., 500.],\n",
              "        [  0.,   0.,   0., 320.,   0.,   0.],\n",
              "        [  0., 400., 256.,   0., 400.,   0.],\n",
              "        [  0., 400., 256.,   0.,   0., 500.],\n",
              "        [  0., 400.,   0.,   0., 400., 500.]])"
            ]
          },
          "metadata": {
            "tags": []
          },
          "execution_count": 50
        }
      ]
    }
  ]
}