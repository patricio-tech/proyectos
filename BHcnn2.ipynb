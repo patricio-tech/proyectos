{
  "nbformat": 4,
  "nbformat_minor": 0,
  "metadata": {
    "colab": {
      "name": "BHcnn2.ipynb",
      "provenance": [],
      "collapsed_sections": [],
      "include_colab_link": true
    },
    "kernelspec": {
      "name": "python3",
      "display_name": "Python 3"
    }
  },
  "cells": [
    {
      "cell_type": "markdown",
      "metadata": {
        "id": "view-in-github",
        "colab_type": "text"
      },
      "source": [
        "<a href=\"https://colab.research.google.com/github/patricio-tech/proyectos/blob/master/BHcnn2.ipynb\" target=\"_parent\"><img src=\"https://colab.research.google.com/assets/colab-badge.svg\" alt=\"Open In Colab\"/></a>"
      ]
    },
    {
      "cell_type": "markdown",
      "metadata": {
        "id": "tNOiXGnO-9rt",
        "colab_type": "text"
      },
      "source": [
        "# Belo Horizonte\n",
        "Redes neuronales convolucionales\n",
        "\n",
        "Edwin Solís\n",
        "\n",
        "2020"
      ]
    },
    {
      "cell_type": "markdown",
      "metadata": {
        "id": "plLHdHNoAJrO",
        "colab_type": "text"
      },
      "source": [
        "## RED NEURONAL CONVOLUCIONAL"
      ]
    },
    {
      "cell_type": "markdown",
      "metadata": {
        "id": "fxXwNkGK_NGz",
        "colab_type": "text"
      },
      "source": [
        "1. Carga de datos de 1 año **[Potencia Activa]**"
      ]
    },
    {
      "cell_type": "code",
      "metadata": {
        "id": "Jg7Xt9Wr-uXb",
        "colab_type": "code",
        "colab": {}
      },
      "source": [
        "import datetime\n",
        "import numpy as np\n",
        "import pandas as pd\n",
        "import matplotlib.pyplot as plt\n",
        "from keras.models import Sequential\n",
        "from keras.layers import Dense,Activation,Flatten\n",
        "from sklearn.preprocessing import MinMaxScaler\n",
        "from keras.layers.convolutional import Conv1D\n",
        "from keras.layers.convolutional import MaxPooling1D\n",
        "import keras.backend as K"
      ],
      "execution_count": null,
      "outputs": []
    },
    {
      "cell_type": "code",
      "metadata": {
        "id": "kDJCPwqW_qlw",
        "colab_type": "code",
        "colab": {
          "base_uri": "https://localhost:8080/",
          "height": 207
        },
        "outputId": "cc5f33e7-185a-4620-ebe0-c868e08f79cc"
      },
      "source": [
        "\n",
        "url = 'https://raw.githubusercontent.com/esoliss/AMI/master/Dataset/belohorizonte2017.csv'\n",
        "df = pd.read_csv(url, error_bad_lines=False)\n",
        "df = df.drop(columns=['Timestamp','kVARh rec int','kWh rec int','kVAR sd rec'])\n",
        "df = df.drop(df.columns[-1],axis=1)\n",
        "df = df.rename(columns={\"kVAR sd del\": \"Q\", \"kVARh del int\": \"kVARh\",\"kW sd del\": \"P\",\"kWh del int\": \"kWh\",\"kVA sd del\": \"S\"})\n",
        "df['Local Time'] = df['Local Time'].astype('datetime64[ns]')\n",
        "var = list(df.columns)\n",
        "va = {'Potencia Activa':var[3], 'Potencia Reactiva':var[1], 'Potencia Aparente': var[8], 'Voltaje An':var[5],\n",
        "      'Voltaje Bn':var[6], 'Voltaje Cn':var[7], 'Corriente A':var[9], 'Corriente B':var[10], 'Corriente C':var[11],\n",
        "      'Energía Activa':var[4], 'Energía Reactiva':var[3]}\n",
        "\n",
        "# SELECCIONAR VARIABLE\n",
        "select = 'Potencia Activa' \n",
        "## Opciones:\n",
        "#'Potencia Activa', 'Potencia Reactiva', 'Potencia Aparente', 'Voltaje An', 'Voltaje bn', 'Voltaje Cn'\n",
        "#'Corriente A', 'Corriente B', 'Corriente C', 'Energía Activa', 'Energía Reactiva'\n",
        "\n",
        "dfil = df[['Local Time',va[select]]].copy()\n",
        "n=0\n",
        "for g in dfil[va[select]]:\n",
        "    if g>2160:\n",
        "        dfil[va[select]][n]=dfil.describe()[va[select]]['mean']\n",
        "    if g<500:\n",
        "        dfil[va[select]][n]=dfil.describe()[va[select]]['mean']-350\n",
        "    n+=1\n",
        "# SELECIONAR FECHAS\n",
        "mes_inicio = 1\n",
        "dia_inicio = 1\n",
        "mes_final = 2\n",
        "dia_final = 1\n",
        "\n",
        "ini=datetime.datetime(2017,mes_inicio,dia_inicio,0,0)\n",
        "if mes_inicio ==12:\n",
        "    yf = 2018\n",
        "else:\n",
        "    yf =2017\n",
        "fin=datetime.datetime(yf,mes_final,dia_final,0,0)\n",
        "mask = (dfil[\"Local Time\"]>=ini) & (dfil[\"Local Time\"]<fin)\n",
        "seq = dfil.loc[mask] \n",
        "dfil = seq"
      ],
      "execution_count": null,
      "outputs": [
        {
          "output_type": "stream",
          "text": [
            "/usr/local/lib/python3.6/dist-packages/IPython/core/interactiveshell.py:2718: DtypeWarning: Columns (1) have mixed types.Specify dtype option on import or set low_memory=False.\n",
            "  interactivity=interactivity, compiler=compiler, result=result)\n",
            "/usr/local/lib/python3.6/dist-packages/ipykernel_launcher.py:25: SettingWithCopyWarning: \n",
            "A value is trying to be set on a copy of a slice from a DataFrame\n",
            "\n",
            "See the caveats in the documentation: https://pandas.pydata.org/pandas-docs/stable/user_guide/indexing.html#returning-a-view-versus-a-copy\n",
            "/usr/local/lib/python3.6/dist-packages/ipykernel_launcher.py:23: SettingWithCopyWarning: \n",
            "A value is trying to be set on a copy of a slice from a DataFrame\n",
            "\n",
            "See the caveats in the documentation: https://pandas.pydata.org/pandas-docs/stable/user_guide/indexing.html#returning-a-view-versus-a-copy\n"
          ],
          "name": "stderr"
        }
      ]
    },
    {
      "cell_type": "markdown",
      "metadata": {
        "id": "Ni4boQtPACXg",
        "colab_type": "text"
      },
      "source": [
        "2. Definición de funciones para el modelo"
      ]
    },
    {
      "cell_type": "code",
      "metadata": {
        "id": "dT-D6qTfABuy",
        "colab_type": "code",
        "colab": {}
      },
      "source": [
        "# definición de métrica para precisión\n",
        "def soft_acc(y_true, y_pred):\n",
        "    return K.mean(K.equal(K.round(y_true), K.round(y_pred)))\n",
        "# convert series to supervised learning\n",
        "def series_to_supervised(data, n_in=1, n_out=1, dropnan=True):\n",
        "    n_vars = 1 if type(data) is list else data.shape[1]\n",
        "    df = pd.DataFrame(data)\n",
        "    cols, names = list(), list()\n",
        "    # input sequence (t-n, ... t-1)\n",
        "    for i in range(n_in, 0, -1):\n",
        "        cols.append(df.shift(i))\n",
        "        names += [('var%d(t-%d)' % (j+1, i)) for j in range(n_vars)]\n",
        "    # forecast sequence (t, t+1, ... t+n)\n",
        "    for i in range(0, n_out):\n",
        "        cols.append(df.shift(-i))\n",
        "        if i == 0:\n",
        "            names += [('var%d(t)' % (j+1)) for j in range(n_vars)]\n",
        "        else:\n",
        "            names += [('var%d(t+%d)' % (j+1, i)) for j in range(n_vars)]\n",
        "    # put it all together\n",
        "    agg = pd.concat(cols, axis=1)\n",
        "    agg.columns = names\n",
        "    # drop rows with NaN values\n",
        "    if dropnan:\n",
        "        agg.dropna(inplace=True)\n",
        "    return agg\n",
        "# creación del modelo\n",
        "def crear_modeloFF():\n",
        "    model = Sequential() \n",
        "    #model.add(Dense(PASOS, input_shape=(1,PASOS),activation='tanh'))\n",
        "    model.add(Conv1D(filters=26, kernel_size=3, activation='relu', input_shape=(PASOS,1)))\n",
        "    model.add(MaxPooling1D(pool_size=2))\n",
        "    model.add(Flatten())\n",
        "    model.add(Dense(50, activation='relu'))\n",
        "    model.add(Dense(1))\n",
        "    model.compile(loss='mean_absolute_error',optimizer='Adam',metrics=[soft_acc])\n",
        "    model.summary()\n",
        "    return model\n",
        "# Resultados\n",
        "def agregarNuevoValor(x_test,nuevoValor):\n",
        "    for i in range(x_test.shape[1]-1):\n",
        "        x_test[0][i][0] = x_test[0][i+1][0]\n",
        "    x_test[0][x_test.shape[1]-1][0]=nuevoValor\n",
        "    return x_test\n"
      ],
      "execution_count": null,
      "outputs": []
    },
    {
      "cell_type": "markdown",
      "metadata": {
        "id": "p5WDEfHzEvE1",
        "colab_type": "text"
      },
      "source": [
        "3. Conversión de serie de tiempo"
      ]
    },
    {
      "cell_type": "code",
      "metadata": {
        "id": "LojoSnJFEqfv",
        "colab_type": "code",
        "colab": {
          "base_uri": "https://localhost:8080/",
          "height": 34
        },
        "outputId": "60824570-f534-4aac-9a61-c0b13d4e3cfc"
      },
      "source": [
        "PASOS=96\n",
        "EPOCHS=200\n",
        "# load dataset\n",
        "values = dfil['P'].values\n",
        "# ensure all data is float\n",
        "values = values.astype('float32')\n",
        "# normalize features\n",
        "scaler = MinMaxScaler(feature_range=(-1, 1))\n",
        "values=values.reshape(-1, 1) # esto lo hacemos porque tenemos 1 sola dimension\n",
        "scaled = scaler.fit_transform(values)\n",
        "# frame as supervised learning\n",
        "reframed = series_to_supervised(scaled,PASOS,1)\n",
        "# split into train and test sets\n",
        "values = reframed.values\n",
        "n_train_days = int(dfil.shape[0] - (dfil.shape[0]*0.2+PASOS))\n",
        "train = values[:n_train_days, :]\n",
        "test = values[n_train_days:, :]\n",
        "# split into input and outputs\n",
        "x_train, y_train = train[:, :-1], train[:, -1]\n",
        "x_val, y_val = test[:, :-1], test[:, -1]\n",
        "# reshape input to be 3D [samples, timesteps, features]\n",
        "x_train = x_train.reshape((x_train.shape[0], x_train.shape[1],1))\n",
        "x_val = x_val.reshape((x_val.shape[0], x_val.shape[1],1))\n",
        "print(x_train.shape, y_train.shape, x_val.shape, y_val.shape)"
      ],
      "execution_count": null,
      "outputs": [
        {
          "output_type": "stream",
          "text": [
            "(2284, 96, 1) (2284,) (595, 96, 1) (595,)\n"
          ],
          "name": "stdout"
        }
      ]
    },
    {
      "cell_type": "markdown",
      "metadata": {
        "id": "PRUZGiAGFbub",
        "colab_type": "text"
      },
      "source": [
        "4. Entrenamiento del modelo"
      ]
    },
    {
      "cell_type": "code",
      "metadata": {
        "id": "eSNSo7P6FeUY",
        "colab_type": "code",
        "colab": {
          "base_uri": "https://localhost:8080/",
          "height": 1000
        },
        "outputId": "ddc65a49-274c-41c5-93a1-964f55fd08c0"
      },
      "source": [
        "\n",
        "model = crear_modeloFF()\n",
        "\n",
        "history=model.fit(x_train,y_train,epochs=EPOCHS,validation_data=(x_val,y_val),batch_size=PASOS)\n",
        "\n",
        "results=model.predict(x_val)"
      ],
      "execution_count": null,
      "outputs": [
        {
          "output_type": "stream",
          "text": [
            "Model: \"sequential_15\"\n",
            "_________________________________________________________________\n",
            "Layer (type)                 Output Shape              Param #   \n",
            "=================================================================\n",
            "conv1d_15 (Conv1D)           (None, 94, 26)            104       \n",
            "_________________________________________________________________\n",
            "max_pooling1d_15 (MaxPooling (None, 47, 26)            0         \n",
            "_________________________________________________________________\n",
            "flatten_15 (Flatten)         (None, 1222)              0         \n",
            "_________________________________________________________________\n",
            "dense_30 (Dense)             (None, 50)                61150     \n",
            "_________________________________________________________________\n",
            "dense_31 (Dense)             (None, 1)                 51        \n",
            "=================================================================\n",
            "Total params: 61,305\n",
            "Trainable params: 61,305\n",
            "Non-trainable params: 0\n",
            "_________________________________________________________________\n",
            "Epoch 1/200\n",
            "24/24 [==============================] - 0s 13ms/step - loss: 0.1521 - soft_acc: 0.8570 - val_loss: 0.1067 - val_soft_acc: 0.9345\n",
            "Epoch 2/200\n",
            "24/24 [==============================] - 0s 8ms/step - loss: 0.0865 - soft_acc: 0.9160 - val_loss: 0.0811 - val_soft_acc: 0.9405\n",
            "Epoch 3/200\n",
            "24/24 [==============================] - 0s 9ms/step - loss: 0.0688 - soft_acc: 0.9305 - val_loss: 0.0677 - val_soft_acc: 0.9643\n",
            "Epoch 4/200\n",
            "24/24 [==============================] - 0s 8ms/step - loss: 0.0618 - soft_acc: 0.9359 - val_loss: 0.0690 - val_soft_acc: 0.9583\n",
            "Epoch 5/200\n",
            "24/24 [==============================] - 0s 9ms/step - loss: 0.0613 - soft_acc: 0.9286 - val_loss: 0.0615 - val_soft_acc: 0.9673\n",
            "Epoch 6/200\n",
            "24/24 [==============================] - 0s 8ms/step - loss: 0.0522 - soft_acc: 0.9414 - val_loss: 0.0542 - val_soft_acc: 0.9702\n",
            "Epoch 7/200\n",
            "24/24 [==============================] - 0s 8ms/step - loss: 0.0457 - soft_acc: 0.9475 - val_loss: 0.0526 - val_soft_acc: 0.9688\n",
            "Epoch 8/200\n",
            "24/24 [==============================] - 0s 9ms/step - loss: 0.0449 - soft_acc: 0.9478 - val_loss: 0.0525 - val_soft_acc: 0.9628\n",
            "Epoch 9/200\n",
            "24/24 [==============================] - 0s 9ms/step - loss: 0.0415 - soft_acc: 0.9511 - val_loss: 0.0459 - val_soft_acc: 0.9702\n",
            "Epoch 10/200\n",
            "24/24 [==============================] - 0s 9ms/step - loss: 0.0402 - soft_acc: 0.9522 - val_loss: 0.0483 - val_soft_acc: 0.9597\n",
            "Epoch 11/200\n",
            "24/24 [==============================] - 0s 8ms/step - loss: 0.0383 - soft_acc: 0.9606 - val_loss: 0.0421 - val_soft_acc: 0.9732\n",
            "Epoch 12/200\n",
            "24/24 [==============================] - 0s 9ms/step - loss: 0.0356 - soft_acc: 0.9614 - val_loss: 0.0457 - val_soft_acc: 0.9762\n",
            "Epoch 13/200\n",
            "24/24 [==============================] - 0s 9ms/step - loss: 0.0353 - soft_acc: 0.9595 - val_loss: 0.0431 - val_soft_acc: 0.9747\n",
            "Epoch 14/200\n",
            "24/24 [==============================] - 0s 8ms/step - loss: 0.0368 - soft_acc: 0.9589 - val_loss: 0.0419 - val_soft_acc: 0.9658\n",
            "Epoch 15/200\n",
            "24/24 [==============================] - 0s 9ms/step - loss: 0.0338 - soft_acc: 0.9647 - val_loss: 0.0399 - val_soft_acc: 0.9732\n",
            "Epoch 16/200\n",
            "24/24 [==============================] - 0s 8ms/step - loss: 0.0333 - soft_acc: 0.9576 - val_loss: 0.0423 - val_soft_acc: 0.9643\n",
            "Epoch 17/200\n",
            "24/24 [==============================] - 0s 8ms/step - loss: 0.0335 - soft_acc: 0.9652 - val_loss: 0.0478 - val_soft_acc: 0.9658\n",
            "Epoch 18/200\n",
            "24/24 [==============================] - 0s 8ms/step - loss: 0.0308 - soft_acc: 0.9666 - val_loss: 0.0394 - val_soft_acc: 0.9747\n",
            "Epoch 19/200\n",
            "24/24 [==============================] - 0s 9ms/step - loss: 0.0324 - soft_acc: 0.9627 - val_loss: 0.0476 - val_soft_acc: 0.9673\n",
            "Epoch 20/200\n",
            "24/24 [==============================] - 0s 8ms/step - loss: 0.0316 - soft_acc: 0.9596 - val_loss: 0.0426 - val_soft_acc: 0.9673\n",
            "Epoch 21/200\n",
            "24/24 [==============================] - 0s 8ms/step - loss: 0.0345 - soft_acc: 0.9634 - val_loss: 0.0430 - val_soft_acc: 0.9702\n",
            "Epoch 22/200\n",
            "24/24 [==============================] - 0s 8ms/step - loss: 0.0321 - soft_acc: 0.9647 - val_loss: 0.0366 - val_soft_acc: 0.9732\n",
            "Epoch 23/200\n",
            "24/24 [==============================] - 0s 8ms/step - loss: 0.0278 - soft_acc: 0.9710 - val_loss: 0.0420 - val_soft_acc: 0.9717\n",
            "Epoch 24/200\n",
            "24/24 [==============================] - 0s 9ms/step - loss: 0.0305 - soft_acc: 0.9650 - val_loss: 0.0346 - val_soft_acc: 0.9702\n",
            "Epoch 25/200\n",
            "24/24 [==============================] - 0s 9ms/step - loss: 0.0283 - soft_acc: 0.9656 - val_loss: 0.0362 - val_soft_acc: 0.9792\n",
            "Epoch 26/200\n",
            "24/24 [==============================] - 0s 8ms/step - loss: 0.0283 - soft_acc: 0.9662 - val_loss: 0.0380 - val_soft_acc: 0.9717\n",
            "Epoch 27/200\n",
            "24/24 [==============================] - 0s 9ms/step - loss: 0.0291 - soft_acc: 0.9703 - val_loss: 0.0355 - val_soft_acc: 0.9717\n",
            "Epoch 28/200\n",
            "24/24 [==============================] - 0s 8ms/step - loss: 0.0278 - soft_acc: 0.9666 - val_loss: 0.0339 - val_soft_acc: 0.9732\n",
            "Epoch 29/200\n",
            "24/24 [==============================] - 0s 9ms/step - loss: 0.0268 - soft_acc: 0.9667 - val_loss: 0.0330 - val_soft_acc: 0.9732\n",
            "Epoch 30/200\n",
            "24/24 [==============================] - 0s 8ms/step - loss: 0.0275 - soft_acc: 0.9685 - val_loss: 0.0355 - val_soft_acc: 0.9747\n",
            "Epoch 31/200\n",
            "24/24 [==============================] - 0s 8ms/step - loss: 0.0279 - soft_acc: 0.9704 - val_loss: 0.0334 - val_soft_acc: 0.9717\n",
            "Epoch 32/200\n",
            "24/24 [==============================] - 0s 8ms/step - loss: 0.0264 - soft_acc: 0.9683 - val_loss: 0.0356 - val_soft_acc: 0.9747\n",
            "Epoch 33/200\n",
            "24/24 [==============================] - 0s 8ms/step - loss: 0.0260 - soft_acc: 0.9710 - val_loss: 0.0349 - val_soft_acc: 0.9762\n",
            "Epoch 34/200\n",
            "24/24 [==============================] - 0s 9ms/step - loss: 0.0270 - soft_acc: 0.9690 - val_loss: 0.0317 - val_soft_acc: 0.9762\n",
            "Epoch 35/200\n",
            "24/24 [==============================] - 0s 8ms/step - loss: 0.0252 - soft_acc: 0.9733 - val_loss: 0.0331 - val_soft_acc: 0.9747\n",
            "Epoch 36/200\n",
            "24/24 [==============================] - 0s 8ms/step - loss: 0.0245 - soft_acc: 0.9723 - val_loss: 0.0352 - val_soft_acc: 0.9747\n",
            "Epoch 37/200\n",
            "24/24 [==============================] - 0s 8ms/step - loss: 0.0256 - soft_acc: 0.9740 - val_loss: 0.0347 - val_soft_acc: 0.9732\n",
            "Epoch 38/200\n",
            "24/24 [==============================] - 0s 8ms/step - loss: 0.0255 - soft_acc: 0.9677 - val_loss: 0.0383 - val_soft_acc: 0.9732\n",
            "Epoch 39/200\n",
            "24/24 [==============================] - 0s 9ms/step - loss: 0.0252 - soft_acc: 0.9734 - val_loss: 0.0337 - val_soft_acc: 0.9717\n",
            "Epoch 40/200\n",
            "24/24 [==============================] - 0s 8ms/step - loss: 0.0258 - soft_acc: 0.9660 - val_loss: 0.0334 - val_soft_acc: 0.9747\n",
            "Epoch 41/200\n",
            "24/24 [==============================] - 0s 8ms/step - loss: 0.0245 - soft_acc: 0.9745 - val_loss: 0.0336 - val_soft_acc: 0.9702\n",
            "Epoch 42/200\n",
            "24/24 [==============================] - 0s 8ms/step - loss: 0.0243 - soft_acc: 0.9759 - val_loss: 0.0328 - val_soft_acc: 0.9702\n",
            "Epoch 43/200\n",
            "24/24 [==============================] - 0s 8ms/step - loss: 0.0236 - soft_acc: 0.9756 - val_loss: 0.0324 - val_soft_acc: 0.9687\n",
            "Epoch 44/200\n",
            "24/24 [==============================] - 0s 8ms/step - loss: 0.0229 - soft_acc: 0.9693 - val_loss: 0.0312 - val_soft_acc: 0.9732\n",
            "Epoch 45/200\n",
            "24/24 [==============================] - 0s 8ms/step - loss: 0.0237 - soft_acc: 0.9756 - val_loss: 0.0329 - val_soft_acc: 0.9732\n",
            "Epoch 46/200\n",
            "24/24 [==============================] - 0s 8ms/step - loss: 0.0275 - soft_acc: 0.9709 - val_loss: 0.0362 - val_soft_acc: 0.9702\n",
            "Epoch 47/200\n",
            "24/24 [==============================] - 0s 8ms/step - loss: 0.0231 - soft_acc: 0.9742 - val_loss: 0.0387 - val_soft_acc: 0.9702\n",
            "Epoch 48/200\n",
            "24/24 [==============================] - 0s 9ms/step - loss: 0.0267 - soft_acc: 0.9694 - val_loss: 0.0323 - val_soft_acc: 0.9702\n",
            "Epoch 49/200\n",
            "24/24 [==============================] - 0s 9ms/step - loss: 0.0233 - soft_acc: 0.9737 - val_loss: 0.0338 - val_soft_acc: 0.9762\n",
            "Epoch 50/200\n",
            "24/24 [==============================] - 0s 8ms/step - loss: 0.0235 - soft_acc: 0.9762 - val_loss: 0.0337 - val_soft_acc: 0.9762\n",
            "Epoch 51/200\n",
            "24/24 [==============================] - 0s 8ms/step - loss: 0.0216 - soft_acc: 0.9747 - val_loss: 0.0318 - val_soft_acc: 0.9702\n",
            "Epoch 52/200\n",
            "24/24 [==============================] - 0s 8ms/step - loss: 0.0226 - soft_acc: 0.9794 - val_loss: 0.0320 - val_soft_acc: 0.9747\n",
            "Epoch 53/200\n",
            "24/24 [==============================] - 0s 8ms/step - loss: 0.0228 - soft_acc: 0.9749 - val_loss: 0.0382 - val_soft_acc: 0.9717\n",
            "Epoch 54/200\n",
            "24/24 [==============================] - 0s 9ms/step - loss: 0.0252 - soft_acc: 0.9755 - val_loss: 0.0380 - val_soft_acc: 0.9732\n",
            "Epoch 55/200\n",
            "24/24 [==============================] - 0s 9ms/step - loss: 0.0253 - soft_acc: 0.9707 - val_loss: 0.0323 - val_soft_acc: 0.9732\n",
            "Epoch 56/200\n",
            "24/24 [==============================] - 0s 8ms/step - loss: 0.0240 - soft_acc: 0.9717 - val_loss: 0.0328 - val_soft_acc: 0.9702\n",
            "Epoch 57/200\n",
            "24/24 [==============================] - 0s 8ms/step - loss: 0.0221 - soft_acc: 0.9792 - val_loss: 0.0312 - val_soft_acc: 0.9747\n",
            "Epoch 58/200\n",
            "24/24 [==============================] - 0s 8ms/step - loss: 0.0225 - soft_acc: 0.9776 - val_loss: 0.0309 - val_soft_acc: 0.9673\n",
            "Epoch 59/200\n",
            "24/24 [==============================] - 0s 9ms/step - loss: 0.0232 - soft_acc: 0.9753 - val_loss: 0.0323 - val_soft_acc: 0.9717\n",
            "Epoch 60/200\n",
            "24/24 [==============================] - 0s 8ms/step - loss: 0.0217 - soft_acc: 0.9768 - val_loss: 0.0317 - val_soft_acc: 0.9732\n",
            "Epoch 61/200\n",
            "24/24 [==============================] - 0s 8ms/step - loss: 0.0250 - soft_acc: 0.9759 - val_loss: 0.0315 - val_soft_acc: 0.9777\n",
            "Epoch 62/200\n",
            "24/24 [==============================] - 0s 8ms/step - loss: 0.0233 - soft_acc: 0.9737 - val_loss: 0.0386 - val_soft_acc: 0.9702\n",
            "Epoch 63/200\n",
            "24/24 [==============================] - 0s 8ms/step - loss: 0.0237 - soft_acc: 0.9704 - val_loss: 0.0340 - val_soft_acc: 0.9702\n",
            "Epoch 64/200\n",
            "24/24 [==============================] - 0s 9ms/step - loss: 0.0235 - soft_acc: 0.9734 - val_loss: 0.0307 - val_soft_acc: 0.9673\n",
            "Epoch 65/200\n",
            "24/24 [==============================] - 0s 8ms/step - loss: 0.0210 - soft_acc: 0.9781 - val_loss: 0.0317 - val_soft_acc: 0.9717\n",
            "Epoch 66/200\n",
            "24/24 [==============================] - 0s 8ms/step - loss: 0.0224 - soft_acc: 0.9736 - val_loss: 0.0330 - val_soft_acc: 0.9717\n",
            "Epoch 67/200\n",
            "24/24 [==============================] - 0s 10ms/step - loss: 0.0216 - soft_acc: 0.9763 - val_loss: 0.0351 - val_soft_acc: 0.9688\n",
            "Epoch 68/200\n",
            "24/24 [==============================] - 0s 9ms/step - loss: 0.0235 - soft_acc: 0.9735 - val_loss: 0.0316 - val_soft_acc: 0.9688\n",
            "Epoch 69/200\n",
            "24/24 [==============================] - 0s 9ms/step - loss: 0.0207 - soft_acc: 0.9774 - val_loss: 0.0311 - val_soft_acc: 0.9688\n",
            "Epoch 70/200\n",
            "24/24 [==============================] - 0s 8ms/step - loss: 0.0216 - soft_acc: 0.9759 - val_loss: 0.0335 - val_soft_acc: 0.9673\n",
            "Epoch 71/200\n",
            "24/24 [==============================] - 0s 8ms/step - loss: 0.0228 - soft_acc: 0.9754 - val_loss: 0.0360 - val_soft_acc: 0.9673\n",
            "Epoch 72/200\n",
            "24/24 [==============================] - 0s 8ms/step - loss: 0.0218 - soft_acc: 0.9783 - val_loss: 0.0337 - val_soft_acc: 0.9673\n",
            "Epoch 73/200\n",
            "24/24 [==============================] - 0s 8ms/step - loss: 0.0216 - soft_acc: 0.9769 - val_loss: 0.0308 - val_soft_acc: 0.9702\n",
            "Epoch 74/200\n",
            "24/24 [==============================] - 0s 9ms/step - loss: 0.0209 - soft_acc: 0.9783 - val_loss: 0.0316 - val_soft_acc: 0.9717\n",
            "Epoch 75/200\n",
            "24/24 [==============================] - 0s 8ms/step - loss: 0.0209 - soft_acc: 0.9763 - val_loss: 0.0320 - val_soft_acc: 0.9702\n",
            "Epoch 76/200\n",
            "24/24 [==============================] - 0s 9ms/step - loss: 0.0217 - soft_acc: 0.9756 - val_loss: 0.0328 - val_soft_acc: 0.9747\n",
            "Epoch 77/200\n",
            "24/24 [==============================] - 0s 9ms/step - loss: 0.0236 - soft_acc: 0.9738 - val_loss: 0.0334 - val_soft_acc: 0.9717\n",
            "Epoch 78/200\n",
            "24/24 [==============================] - 0s 8ms/step - loss: 0.0227 - soft_acc: 0.9734 - val_loss: 0.0328 - val_soft_acc: 0.9762\n",
            "Epoch 79/200\n",
            "24/24 [==============================] - 0s 8ms/step - loss: 0.0225 - soft_acc: 0.9761 - val_loss: 0.0393 - val_soft_acc: 0.9717\n",
            "Epoch 80/200\n",
            "24/24 [==============================] - 0s 8ms/step - loss: 0.0250 - soft_acc: 0.9707 - val_loss: 0.0337 - val_soft_acc: 0.9717\n",
            "Epoch 81/200\n",
            "24/24 [==============================] - 0s 8ms/step - loss: 0.0212 - soft_acc: 0.9786 - val_loss: 0.0313 - val_soft_acc: 0.9732\n",
            "Epoch 82/200\n",
            "24/24 [==============================] - 0s 9ms/step - loss: 0.0204 - soft_acc: 0.9771 - val_loss: 0.0324 - val_soft_acc: 0.9658\n",
            "Epoch 83/200\n",
            "24/24 [==============================] - 0s 8ms/step - loss: 0.0213 - soft_acc: 0.9747 - val_loss: 0.0333 - val_soft_acc: 0.9717\n",
            "Epoch 84/200\n",
            "24/24 [==============================] - 0s 8ms/step - loss: 0.0208 - soft_acc: 0.9747 - val_loss: 0.0302 - val_soft_acc: 0.9717\n",
            "Epoch 85/200\n",
            "24/24 [==============================] - 0s 8ms/step - loss: 0.0200 - soft_acc: 0.9782 - val_loss: 0.0337 - val_soft_acc: 0.9688\n",
            "Epoch 86/200\n",
            "24/24 [==============================] - 0s 8ms/step - loss: 0.0199 - soft_acc: 0.9799 - val_loss: 0.0310 - val_soft_acc: 0.9732\n",
            "Epoch 87/200\n",
            "24/24 [==============================] - 0s 8ms/step - loss: 0.0201 - soft_acc: 0.9811 - val_loss: 0.0315 - val_soft_acc: 0.9658\n",
            "Epoch 88/200\n",
            "24/24 [==============================] - 0s 8ms/step - loss: 0.0195 - soft_acc: 0.9808 - val_loss: 0.0324 - val_soft_acc: 0.9717\n",
            "Epoch 89/200\n",
            "24/24 [==============================] - 0s 8ms/step - loss: 0.0204 - soft_acc: 0.9770 - val_loss: 0.0331 - val_soft_acc: 0.9673\n",
            "Epoch 90/200\n",
            "24/24 [==============================] - 0s 8ms/step - loss: 0.0203 - soft_acc: 0.9787 - val_loss: 0.0314 - val_soft_acc: 0.9702\n",
            "Epoch 91/200\n",
            "24/24 [==============================] - 0s 9ms/step - loss: 0.0211 - soft_acc: 0.9778 - val_loss: 0.0313 - val_soft_acc: 0.9732\n",
            "Epoch 92/200\n",
            "24/24 [==============================] - 0s 9ms/step - loss: 0.0202 - soft_acc: 0.9769 - val_loss: 0.0303 - val_soft_acc: 0.9717\n",
            "Epoch 93/200\n",
            "24/24 [==============================] - 0s 9ms/step - loss: 0.0216 - soft_acc: 0.9767 - val_loss: 0.0306 - val_soft_acc: 0.9717\n",
            "Epoch 94/200\n",
            "24/24 [==============================] - 0s 8ms/step - loss: 0.0212 - soft_acc: 0.9796 - val_loss: 0.0310 - val_soft_acc: 0.9702\n",
            "Epoch 95/200\n",
            "24/24 [==============================] - 0s 9ms/step - loss: 0.0190 - soft_acc: 0.9793 - val_loss: 0.0315 - val_soft_acc: 0.9732\n",
            "Epoch 96/200\n",
            "24/24 [==============================] - 0s 8ms/step - loss: 0.0192 - soft_acc: 0.9792 - val_loss: 0.0311 - val_soft_acc: 0.9702\n",
            "Epoch 97/200\n",
            "24/24 [==============================] - 0s 8ms/step - loss: 0.0191 - soft_acc: 0.9811 - val_loss: 0.0326 - val_soft_acc: 0.9687\n",
            "Epoch 98/200\n",
            "24/24 [==============================] - 0s 9ms/step - loss: 0.0198 - soft_acc: 0.9773 - val_loss: 0.0312 - val_soft_acc: 0.9717\n",
            "Epoch 99/200\n",
            "24/24 [==============================] - 0s 8ms/step - loss: 0.0212 - soft_acc: 0.9791 - val_loss: 0.0308 - val_soft_acc: 0.9688\n",
            "Epoch 100/200\n",
            "24/24 [==============================] - 0s 9ms/step - loss: 0.0196 - soft_acc: 0.9769 - val_loss: 0.0326 - val_soft_acc: 0.9702\n",
            "Epoch 101/200\n",
            "24/24 [==============================] - 0s 8ms/step - loss: 0.0193 - soft_acc: 0.9763 - val_loss: 0.0322 - val_soft_acc: 0.9747\n",
            "Epoch 102/200\n",
            "24/24 [==============================] - 0s 9ms/step - loss: 0.0188 - soft_acc: 0.9795 - val_loss: 0.0317 - val_soft_acc: 0.9688\n",
            "Epoch 103/200\n",
            "24/24 [==============================] - 0s 8ms/step - loss: 0.0195 - soft_acc: 0.9813 - val_loss: 0.0333 - val_soft_acc: 0.9747\n",
            "Epoch 104/200\n",
            "24/24 [==============================] - 0s 8ms/step - loss: 0.0204 - soft_acc: 0.9800 - val_loss: 0.0355 - val_soft_acc: 0.9717\n",
            "Epoch 105/200\n",
            "24/24 [==============================] - 0s 9ms/step - loss: 0.0199 - soft_acc: 0.9781 - val_loss: 0.0327 - val_soft_acc: 0.9717\n",
            "Epoch 106/200\n",
            "24/24 [==============================] - 0s 9ms/step - loss: 0.0214 - soft_acc: 0.9760 - val_loss: 0.0316 - val_soft_acc: 0.9762\n",
            "Epoch 107/200\n",
            "24/24 [==============================] - 0s 8ms/step - loss: 0.0218 - soft_acc: 0.9770 - val_loss: 0.0317 - val_soft_acc: 0.9732\n",
            "Epoch 108/200\n",
            "24/24 [==============================] - 0s 8ms/step - loss: 0.0192 - soft_acc: 0.9800 - val_loss: 0.0324 - val_soft_acc: 0.9688\n",
            "Epoch 109/200\n",
            "24/24 [==============================] - 0s 9ms/step - loss: 0.0189 - soft_acc: 0.9799 - val_loss: 0.0314 - val_soft_acc: 0.9732\n",
            "Epoch 110/200\n",
            "24/24 [==============================] - 0s 9ms/step - loss: 0.0196 - soft_acc: 0.9769 - val_loss: 0.0304 - val_soft_acc: 0.9717\n",
            "Epoch 111/200\n",
            "24/24 [==============================] - 0s 8ms/step - loss: 0.0183 - soft_acc: 0.9798 - val_loss: 0.0313 - val_soft_acc: 0.9792\n",
            "Epoch 112/200\n",
            "24/24 [==============================] - 0s 8ms/step - loss: 0.0179 - soft_acc: 0.9809 - val_loss: 0.0324 - val_soft_acc: 0.9732\n",
            "Epoch 113/200\n",
            "24/24 [==============================] - 0s 8ms/step - loss: 0.0202 - soft_acc: 0.9785 - val_loss: 0.0312 - val_soft_acc: 0.9688\n",
            "Epoch 114/200\n",
            "24/24 [==============================] - 0s 9ms/step - loss: 0.0195 - soft_acc: 0.9774 - val_loss: 0.0358 - val_soft_acc: 0.9717\n",
            "Epoch 115/200\n",
            "24/24 [==============================] - 0s 9ms/step - loss: 0.0193 - soft_acc: 0.9793 - val_loss: 0.0325 - val_soft_acc: 0.9732\n",
            "Epoch 116/200\n",
            "24/24 [==============================] - 0s 8ms/step - loss: 0.0200 - soft_acc: 0.9795 - val_loss: 0.0323 - val_soft_acc: 0.9732\n",
            "Epoch 117/200\n",
            "24/24 [==============================] - 0s 8ms/step - loss: 0.0210 - soft_acc: 0.9787 - val_loss: 0.0334 - val_soft_acc: 0.9717\n",
            "Epoch 118/200\n",
            "24/24 [==============================] - 0s 8ms/step - loss: 0.0186 - soft_acc: 0.9783 - val_loss: 0.0304 - val_soft_acc: 0.9747\n",
            "Epoch 119/200\n",
            "24/24 [==============================] - 0s 9ms/step - loss: 0.0184 - soft_acc: 0.9808 - val_loss: 0.0311 - val_soft_acc: 0.9717\n",
            "Epoch 120/200\n",
            "24/24 [==============================] - 0s 8ms/step - loss: 0.0175 - soft_acc: 0.9812 - val_loss: 0.0325 - val_soft_acc: 0.9747\n",
            "Epoch 121/200\n",
            "24/24 [==============================] - 0s 8ms/step - loss: 0.0186 - soft_acc: 0.9801 - val_loss: 0.0327 - val_soft_acc: 0.9732\n",
            "Epoch 122/200\n",
            "24/24 [==============================] - 0s 8ms/step - loss: 0.0181 - soft_acc: 0.9782 - val_loss: 0.0324 - val_soft_acc: 0.9732\n",
            "Epoch 123/200\n",
            "24/24 [==============================] - 0s 9ms/step - loss: 0.0187 - soft_acc: 0.9804 - val_loss: 0.0325 - val_soft_acc: 0.9732\n",
            "Epoch 124/200\n",
            "24/24 [==============================] - 0s 9ms/step - loss: 0.0196 - soft_acc: 0.9776 - val_loss: 0.0322 - val_soft_acc: 0.9717\n",
            "Epoch 125/200\n",
            "24/24 [==============================] - 0s 8ms/step - loss: 0.0188 - soft_acc: 0.9795 - val_loss: 0.0322 - val_soft_acc: 0.9732\n",
            "Epoch 126/200\n",
            "24/24 [==============================] - 0s 8ms/step - loss: 0.0184 - soft_acc: 0.9832 - val_loss: 0.0312 - val_soft_acc: 0.9747\n",
            "Epoch 127/200\n",
            "24/24 [==============================] - 0s 8ms/step - loss: 0.0183 - soft_acc: 0.9793 - val_loss: 0.0324 - val_soft_acc: 0.9747\n",
            "Epoch 128/200\n",
            "24/24 [==============================] - 0s 9ms/step - loss: 0.0188 - soft_acc: 0.9817 - val_loss: 0.0312 - val_soft_acc: 0.9762\n",
            "Epoch 129/200\n",
            "24/24 [==============================] - 0s 8ms/step - loss: 0.0184 - soft_acc: 0.9811 - val_loss: 0.0309 - val_soft_acc: 0.9717\n",
            "Epoch 130/200\n",
            "24/24 [==============================] - 0s 9ms/step - loss: 0.0192 - soft_acc: 0.9789 - val_loss: 0.0321 - val_soft_acc: 0.9762\n",
            "Epoch 131/200\n",
            "24/24 [==============================] - 0s 8ms/step - loss: 0.0185 - soft_acc: 0.9778 - val_loss: 0.0319 - val_soft_acc: 0.9702\n",
            "Epoch 132/200\n",
            "24/24 [==============================] - 0s 9ms/step - loss: 0.0172 - soft_acc: 0.9773 - val_loss: 0.0314 - val_soft_acc: 0.9732\n",
            "Epoch 133/200\n",
            "24/24 [==============================] - 0s 9ms/step - loss: 0.0178 - soft_acc: 0.9810 - val_loss: 0.0312 - val_soft_acc: 0.9717\n",
            "Epoch 134/200\n",
            "24/24 [==============================] - 0s 9ms/step - loss: 0.0177 - soft_acc: 0.9793 - val_loss: 0.0323 - val_soft_acc: 0.9702\n",
            "Epoch 135/200\n",
            "24/24 [==============================] - 0s 8ms/step - loss: 0.0177 - soft_acc: 0.9808 - val_loss: 0.0310 - val_soft_acc: 0.9747\n",
            "Epoch 136/200\n",
            "24/24 [==============================] - 0s 8ms/step - loss: 0.0168 - soft_acc: 0.9814 - val_loss: 0.0335 - val_soft_acc: 0.9717\n",
            "Epoch 137/200\n",
            "24/24 [==============================] - 0s 8ms/step - loss: 0.0176 - soft_acc: 0.9817 - val_loss: 0.0348 - val_soft_acc: 0.9717\n",
            "Epoch 138/200\n",
            "24/24 [==============================] - 0s 8ms/step - loss: 0.0179 - soft_acc: 0.9802 - val_loss: 0.0310 - val_soft_acc: 0.9732\n",
            "Epoch 139/200\n",
            "24/24 [==============================] - 0s 9ms/step - loss: 0.0184 - soft_acc: 0.9776 - val_loss: 0.0324 - val_soft_acc: 0.9732\n",
            "Epoch 140/200\n",
            "24/24 [==============================] - 0s 8ms/step - loss: 0.0181 - soft_acc: 0.9838 - val_loss: 0.0321 - val_soft_acc: 0.9702\n",
            "Epoch 141/200\n",
            "24/24 [==============================] - 0s 9ms/step - loss: 0.0176 - soft_acc: 0.9843 - val_loss: 0.0321 - val_soft_acc: 0.9702\n",
            "Epoch 142/200\n",
            "24/24 [==============================] - 0s 9ms/step - loss: 0.0169 - soft_acc: 0.9848 - val_loss: 0.0323 - val_soft_acc: 0.9777\n",
            "Epoch 143/200\n",
            "24/24 [==============================] - 0s 8ms/step - loss: 0.0181 - soft_acc: 0.9799 - val_loss: 0.0312 - val_soft_acc: 0.9732\n",
            "Epoch 144/200\n",
            "24/24 [==============================] - 0s 9ms/step - loss: 0.0196 - soft_acc: 0.9782 - val_loss: 0.0322 - val_soft_acc: 0.9717\n",
            "Epoch 145/200\n",
            "24/24 [==============================] - 0s 9ms/step - loss: 0.0174 - soft_acc: 0.9794 - val_loss: 0.0321 - val_soft_acc: 0.9732\n",
            "Epoch 146/200\n",
            "24/24 [==============================] - 0s 9ms/step - loss: 0.0178 - soft_acc: 0.9830 - val_loss: 0.0335 - val_soft_acc: 0.9747\n",
            "Epoch 147/200\n",
            "24/24 [==============================] - 0s 9ms/step - loss: 0.0175 - soft_acc: 0.9824 - val_loss: 0.0335 - val_soft_acc: 0.9702\n",
            "Epoch 148/200\n",
            "24/24 [==============================] - 0s 9ms/step - loss: 0.0175 - soft_acc: 0.9817 - val_loss: 0.0338 - val_soft_acc: 0.9732\n",
            "Epoch 149/200\n",
            "24/24 [==============================] - 0s 10ms/step - loss: 0.0202 - soft_acc: 0.9773 - val_loss: 0.0321 - val_soft_acc: 0.9732\n",
            "Epoch 150/200\n",
            "24/24 [==============================] - 0s 9ms/step - loss: 0.0189 - soft_acc: 0.9784 - val_loss: 0.0314 - val_soft_acc: 0.9717\n",
            "Epoch 151/200\n",
            "24/24 [==============================] - 0s 9ms/step - loss: 0.0181 - soft_acc: 0.9795 - val_loss: 0.0310 - val_soft_acc: 0.9702\n",
            "Epoch 152/200\n",
            "24/24 [==============================] - 0s 9ms/step - loss: 0.0181 - soft_acc: 0.9823 - val_loss: 0.0351 - val_soft_acc: 0.9747\n",
            "Epoch 153/200\n",
            "24/24 [==============================] - 0s 9ms/step - loss: 0.0172 - soft_acc: 0.9822 - val_loss: 0.0317 - val_soft_acc: 0.9717\n",
            "Epoch 154/200\n",
            "24/24 [==============================] - 0s 10ms/step - loss: 0.0171 - soft_acc: 0.9835 - val_loss: 0.0341 - val_soft_acc: 0.9702\n",
            "Epoch 155/200\n",
            "24/24 [==============================] - 0s 10ms/step - loss: 0.0167 - soft_acc: 0.9839 - val_loss: 0.0333 - val_soft_acc: 0.9732\n",
            "Epoch 156/200\n",
            "24/24 [==============================] - 0s 9ms/step - loss: 0.0162 - soft_acc: 0.9808 - val_loss: 0.0315 - val_soft_acc: 0.9717\n",
            "Epoch 157/200\n",
            "24/24 [==============================] - 0s 9ms/step - loss: 0.0170 - soft_acc: 0.9824 - val_loss: 0.0346 - val_soft_acc: 0.9702\n",
            "Epoch 158/200\n",
            "24/24 [==============================] - 0s 10ms/step - loss: 0.0181 - soft_acc: 0.9822 - val_loss: 0.0336 - val_soft_acc: 0.9717\n",
            "Epoch 159/200\n",
            "24/24 [==============================] - 0s 9ms/step - loss: 0.0168 - soft_acc: 0.9821 - val_loss: 0.0330 - val_soft_acc: 0.9717\n",
            "Epoch 160/200\n",
            "24/24 [==============================] - 0s 10ms/step - loss: 0.0169 - soft_acc: 0.9831 - val_loss: 0.0339 - val_soft_acc: 0.9747\n",
            "Epoch 161/200\n",
            "24/24 [==============================] - 0s 9ms/step - loss: 0.0175 - soft_acc: 0.9817 - val_loss: 0.0334 - val_soft_acc: 0.9717\n",
            "Epoch 162/200\n",
            "24/24 [==============================] - 0s 10ms/step - loss: 0.0191 - soft_acc: 0.9783 - val_loss: 0.0351 - val_soft_acc: 0.9732\n",
            "Epoch 163/200\n",
            "24/24 [==============================] - 0s 9ms/step - loss: 0.0187 - soft_acc: 0.9774 - val_loss: 0.0347 - val_soft_acc: 0.9732\n",
            "Epoch 164/200\n",
            "24/24 [==============================] - 0s 9ms/step - loss: 0.0177 - soft_acc: 0.9843 - val_loss: 0.0337 - val_soft_acc: 0.9673\n",
            "Epoch 165/200\n",
            "24/24 [==============================] - 0s 9ms/step - loss: 0.0170 - soft_acc: 0.9832 - val_loss: 0.0336 - val_soft_acc: 0.9702\n",
            "Epoch 166/200\n",
            "24/24 [==============================] - 0s 9ms/step - loss: 0.0174 - soft_acc: 0.9827 - val_loss: 0.0317 - val_soft_acc: 0.9717\n",
            "Epoch 167/200\n",
            "24/24 [==============================] - 0s 9ms/step - loss: 0.0165 - soft_acc: 0.9826 - val_loss: 0.0336 - val_soft_acc: 0.9747\n",
            "Epoch 168/200\n",
            "24/24 [==============================] - 0s 9ms/step - loss: 0.0167 - soft_acc: 0.9833 - val_loss: 0.0317 - val_soft_acc: 0.9717\n",
            "Epoch 169/200\n",
            "24/24 [==============================] - 0s 9ms/step - loss: 0.0157 - soft_acc: 0.9844 - val_loss: 0.0322 - val_soft_acc: 0.9717\n",
            "Epoch 170/200\n",
            "24/24 [==============================] - 0s 8ms/step - loss: 0.0165 - soft_acc: 0.9863 - val_loss: 0.0328 - val_soft_acc: 0.9717\n",
            "Epoch 171/200\n",
            "24/24 [==============================] - 0s 8ms/step - loss: 0.0172 - soft_acc: 0.9849 - val_loss: 0.0330 - val_soft_acc: 0.9747\n",
            "Epoch 172/200\n",
            "24/24 [==============================] - 0s 8ms/step - loss: 0.0165 - soft_acc: 0.9806 - val_loss: 0.0315 - val_soft_acc: 0.9673\n",
            "Epoch 173/200\n",
            "24/24 [==============================] - 0s 9ms/step - loss: 0.0162 - soft_acc: 0.9830 - val_loss: 0.0322 - val_soft_acc: 0.9688\n",
            "Epoch 174/200\n",
            "24/24 [==============================] - 0s 8ms/step - loss: 0.0164 - soft_acc: 0.9818 - val_loss: 0.0312 - val_soft_acc: 0.9732\n",
            "Epoch 175/200\n",
            "24/24 [==============================] - 0s 8ms/step - loss: 0.0153 - soft_acc: 0.9825 - val_loss: 0.0313 - val_soft_acc: 0.9717\n",
            "Epoch 176/200\n",
            "24/24 [==============================] - 0s 8ms/step - loss: 0.0160 - soft_acc: 0.9857 - val_loss: 0.0336 - val_soft_acc: 0.9702\n",
            "Epoch 177/200\n",
            "24/24 [==============================] - 0s 8ms/step - loss: 0.0174 - soft_acc: 0.9802 - val_loss: 0.0319 - val_soft_acc: 0.9717\n",
            "Epoch 178/200\n",
            "24/24 [==============================] - 0s 9ms/step - loss: 0.0167 - soft_acc: 0.9815 - val_loss: 0.0334 - val_soft_acc: 0.9717\n",
            "Epoch 179/200\n",
            "24/24 [==============================] - 0s 8ms/step - loss: 0.0188 - soft_acc: 0.9789 - val_loss: 0.0318 - val_soft_acc: 0.9702\n",
            "Epoch 180/200\n",
            "24/24 [==============================] - 0s 8ms/step - loss: 0.0166 - soft_acc: 0.9807 - val_loss: 0.0319 - val_soft_acc: 0.9717\n",
            "Epoch 181/200\n",
            "24/24 [==============================] - 0s 8ms/step - loss: 0.0159 - soft_acc: 0.9824 - val_loss: 0.0321 - val_soft_acc: 0.9732\n",
            "Epoch 182/200\n",
            "24/24 [==============================] - 0s 8ms/step - loss: 0.0161 - soft_acc: 0.9783 - val_loss: 0.0328 - val_soft_acc: 0.9717\n",
            "Epoch 183/200\n",
            "24/24 [==============================] - 0s 9ms/step - loss: 0.0158 - soft_acc: 0.9835 - val_loss: 0.0334 - val_soft_acc: 0.9762\n",
            "Epoch 184/200\n",
            "24/24 [==============================] - 0s 9ms/step - loss: 0.0173 - soft_acc: 0.9837 - val_loss: 0.0330 - val_soft_acc: 0.9702\n",
            "Epoch 185/200\n",
            "24/24 [==============================] - 0s 8ms/step - loss: 0.0157 - soft_acc: 0.9833 - val_loss: 0.0325 - val_soft_acc: 0.9702\n",
            "Epoch 186/200\n",
            "24/24 [==============================] - 0s 8ms/step - loss: 0.0154 - soft_acc: 0.9851 - val_loss: 0.0329 - val_soft_acc: 0.9702\n",
            "Epoch 187/200\n",
            "24/24 [==============================] - 0s 8ms/step - loss: 0.0152 - soft_acc: 0.9865 - val_loss: 0.0324 - val_soft_acc: 0.9762\n",
            "Epoch 188/200\n",
            "24/24 [==============================] - 0s 9ms/step - loss: 0.0164 - soft_acc: 0.9821 - val_loss: 0.0318 - val_soft_acc: 0.9732\n",
            "Epoch 189/200\n",
            "24/24 [==============================] - 0s 9ms/step - loss: 0.0151 - soft_acc: 0.9852 - val_loss: 0.0323 - val_soft_acc: 0.9732\n",
            "Epoch 190/200\n",
            "24/24 [==============================] - 0s 8ms/step - loss: 0.0154 - soft_acc: 0.9827 - val_loss: 0.0319 - val_soft_acc: 0.9702\n",
            "Epoch 191/200\n",
            "24/24 [==============================] - 0s 9ms/step - loss: 0.0175 - soft_acc: 0.9793 - val_loss: 0.0329 - val_soft_acc: 0.9702\n",
            "Epoch 192/200\n",
            "24/24 [==============================] - 0s 9ms/step - loss: 0.0163 - soft_acc: 0.9834 - val_loss: 0.0326 - val_soft_acc: 0.9732\n",
            "Epoch 193/200\n",
            "24/24 [==============================] - 0s 9ms/step - loss: 0.0168 - soft_acc: 0.9817 - val_loss: 0.0315 - val_soft_acc: 0.9717\n",
            "Epoch 194/200\n",
            "24/24 [==============================] - 0s 9ms/step - loss: 0.0147 - soft_acc: 0.9861 - val_loss: 0.0318 - val_soft_acc: 0.9717\n",
            "Epoch 195/200\n",
            "24/24 [==============================] - 0s 9ms/step - loss: 0.0156 - soft_acc: 0.9812 - val_loss: 0.0324 - val_soft_acc: 0.9747\n",
            "Epoch 196/200\n",
            "24/24 [==============================] - 0s 9ms/step - loss: 0.0163 - soft_acc: 0.9793 - val_loss: 0.0334 - val_soft_acc: 0.9717\n",
            "Epoch 197/200\n",
            "24/24 [==============================] - 0s 9ms/step - loss: 0.0160 - soft_acc: 0.9821 - val_loss: 0.0337 - val_soft_acc: 0.9702\n",
            "Epoch 198/200\n",
            "24/24 [==============================] - 0s 9ms/step - loss: 0.0183 - soft_acc: 0.9807 - val_loss: 0.0333 - val_soft_acc: 0.9687\n",
            "Epoch 199/200\n",
            "24/24 [==============================] - 0s 10ms/step - loss: 0.0151 - soft_acc: 0.9861 - val_loss: 0.0320 - val_soft_acc: 0.9732\n",
            "Epoch 200/200\n",
            "24/24 [==============================] - 0s 9ms/step - loss: 0.0166 - soft_acc: 0.9818 - val_loss: 0.0321 - val_soft_acc: 0.9688\n"
          ],
          "name": "stdout"
        }
      ]
    },
    {
      "cell_type": "markdown",
      "metadata": {
        "id": "Av1M_x4FFsOl",
        "colab_type": "text"
      },
      "source": [
        "5. Comparativa y validación de datos"
      ]
    },
    {
      "cell_type": "code",
      "metadata": {
        "id": "l_3IV0o6FxQY",
        "colab_type": "code",
        "colab": {
          "base_uri": "https://localhost:8080/",
          "height": 545
        },
        "outputId": "0ec3fbb3-42f1-4bc5-ca04-d95d47e3d52e"
      },
      "source": [
        "plt.scatter(range(len(y_val)),y_val,c='g',label='y_val')\n",
        "plt.scatter(range(len(results)),results,c='r',label='Results')\n",
        "plt.title('Scaled Data validation')\n",
        "if len(y_val)>2000:\n",
        "  plt.xlim(2000, 3000)\n",
        "plt.legend()\n",
        "plt.show()\n",
        "\n",
        "acc      = history.history[     'soft_acc' ]\n",
        "val_acc  = history.history[ 'val_soft_acc' ]\n",
        "loss     = history.history[    'loss' ]\n",
        "val_loss = history.history['val_loss' ]\n",
        "\n",
        "epochs   = range(1,len(acc)+1,1)\n",
        "\n",
        "compara = pd.DataFrame(np.array([y_val, [x[0] for x in results]])).transpose()\n",
        "compara.columns = ['real', 'prediccion']\n",
        "\n",
        "inverted = scaler.inverse_transform(compara.values)\n",
        "\n",
        "compara2 = pd.DataFrame(inverted)\n",
        "compara2.columns = ['real', 'prediccion']\n",
        "compara2['diferencia'] = compara2['real'] - compara2['prediccion']\n",
        "\n",
        "compara2['real'].plot(label='Real data' )\n",
        "compara2['prediccion'].plot(label='Prediction' )\n",
        "plt.title('Data validation')\n",
        "if len(y_val)>2000:\n",
        "  plt.xlim(2000, 3000)\n",
        "plt.legend()\n",
        "plt.show()"
      ],
      "execution_count": null,
      "outputs": [
        {
          "output_type": "display_data",
          "data": {
            "image/png": "[encoded data removed]",
            "text/plain": [
              "<Figure size 432x288 with 1 Axes>"
            ]
          },
          "metadata": {
            "tags": [],
            "needs_background": "light"
          }
        },
        {
          "output_type": "display_data",
          "data": {
            "image/png": "[encoded data removed]",
            "text/plain": [
              "<Figure size 432x288 with 1 Axes>"
            ]
          },
          "metadata": {
            "tags": [],
            "needs_background": "light"
          }
        }
      ]
    },
    {
      "cell_type": "markdown",
      "metadata": {
        "id": "qfiAUp7hF6Y_",
        "colab_type": "text"
      },
      "source": [
        "6. Métricas del modelo"
      ]
    },
    {
      "cell_type": "code",
      "metadata": {
        "id": "DZWhEqjwF-R4",
        "colab_type": "code",
        "colab": {
          "base_uri": "https://localhost:8080/",
          "height": 607
        },
        "outputId": "6a1e81b7-93c0-4110-91e5-49b510cdfe0d"
      },
      "source": [
        "plt.plot ( epochs,     acc, 'r--', label='Training acc'  )\n",
        "plt.plot ( epochs, val_acc,  'b', label='Validation acc')\n",
        "plt.title ('Training and validation accuracy')\n",
        "plt.ylabel('soft_acc')\n",
        "plt.xlabel('epochs')\n",
        "\n",
        "plt.legend()\n",
        "plt.figure()\n",
        "\n",
        "plt.plot ( epochs,     loss, 'r--', label='Training loss' )\n",
        "plt.plot ( epochs, val_loss ,  'b', label='Validation loss' )\n",
        "plt.title ('Training and validation loss'   )\n",
        "plt.ylabel('loss')\n",
        "plt.xlabel('epochs')\n",
        "\n",
        "plt.legend()\n",
        "plt.figure()"
      ],
      "execution_count": null,
      "outputs": [
        {
          "output_type": "execute_result",
          "data": {
            "text/plain": [
              "<Figure size 432x288 with 0 Axes>"
            ]
          },
          "metadata": {
            "tags": []
          },
          "execution_count": 181
        },
        {
          "output_type": "display_data",
          "data": {
            "image/png": "[encoded data removed]",
            "text/plain": [
              "<Figure size 432x288 with 1 Axes>"
            ]
          },
          "metadata": {
            "tags": [],
            "needs_background": "light"
          }
        },
        {
          "output_type": "display_data",
          "data": {
            "image/png": "[encoded data removed]",
            "text/plain": [
              "<Figure size 432x288 with 1 Axes>"
            ]
          },
          "metadata": {
            "tags": [],
            "needs_background": "light"
          }
        },
        {
          "output_type": "display_data",
          "data": {
            "text/plain": [
              "<Figure size 432x288 with 0 Axes>"
            ]
          },
          "metadata": {
            "tags": []
          }
        }
      ]
    },
    {
      "cell_type": "markdown",
      "metadata": {
        "id": "Fywb6PteG2tU",
        "colab_type": "text"
      },
      "source": [
        "7. Predicción de un día completo **[Febrero]**"
      ]
    },
    {
      "cell_type": "code",
      "metadata": {
        "id": "27bgTVMiG1M6",
        "colab_type": "code",
        "colab": {
          "base_uri": "https://localhost:8080/",
          "height": 224
        },
        "outputId": "56090e6e-b757-4b29-d6ef-aa6c61b476ee"
      },
      "source": [
        "# SELECIONAR FECHAS\n",
        "mes_inicio = 1\n",
        "dia_inicio = 30\n",
        "mes_final = 2\n",
        "dia_final = 1\n",
        "dfil = df[['Local Time',va[select]]].copy()\n",
        "n=0\n",
        "for g in dfil[va[select]]:\n",
        "    if g>2160:\n",
        "        dfil[va[select]][n]=dfil.describe()[va[select]]['mean']\n",
        "    if g<500:\n",
        "        dfil[va[select]][n]=dfil.describe()[va[select]]['mean']-350\n",
        "    n+=1\n",
        "ini=datetime.datetime(2017,mes_inicio,dia_inicio,0,0)\n",
        "if mes_inicio ==12:\n",
        "    yf = 2018\n",
        "else:\n",
        "    yf =2017\n",
        "fin=datetime.datetime(yf,mes_final,dia_final,0,0)\n",
        "mask = (dfil[\"Local Time\"]>=ini) & (dfil[\"Local Time\"]<fin)\n",
        "seq = dfil.loc[mask] \n",
        "dfd = seq\n",
        "values = dfd['P'].values\n",
        "values = values.astype('float32')\n",
        "# normalize features\n",
        "values=values.reshape(-1, 1)\n",
        "scaled = scaler.fit_transform(values)\n",
        "reframed = series_to_supervised(scaled, PASOS, 1)\n",
        "reframed.drop(reframed.columns[[96]], axis=1, inplace=True)\n",
        "values = reframed.values\n",
        "x_test = values[95:, :]\n",
        "x_test = x_test.reshape((x_test.shape[0], x_test.shape[1],1))\n",
        "print(x_test.shape)"
      ],
      "execution_count": null,
      "outputs": [
        {
          "output_type": "stream",
          "text": [
            "/usr/local/lib/python3.6/dist-packages/ipykernel_launcher.py:12: SettingWithCopyWarning: \n",
            "A value is trying to be set on a copy of a slice from a DataFrame\n",
            "\n",
            "See the caveats in the documentation: https://pandas.pydata.org/pandas-docs/stable/user_guide/indexing.html#returning-a-view-versus-a-copy\n",
            "  if sys.path[0] == '':\n",
            "/usr/local/lib/python3.6/dist-packages/ipykernel_launcher.py:10: SettingWithCopyWarning: \n",
            "A value is trying to be set on a copy of a slice from a DataFrame\n",
            "\n",
            "See the caveats in the documentation: https://pandas.pydata.org/pandas-docs/stable/user_guide/indexing.html#returning-a-view-versus-a-copy\n",
            "  # Remove the CWD from sys.path while we load stuff.\n"
          ],
          "name": "stderr"
        },
        {
          "output_type": "stream",
          "text": [
            "(1, 96, 1)\n"
          ],
          "name": "stdout"
        }
      ]
    },
    {
      "cell_type": "code",
      "metadata": {
        "id": "FPWCyscqHa4U",
        "colab_type": "code",
        "colab": {
          "base_uri": "https://localhost:8080/",
          "height": 173
        },
        "outputId": "1b2c999a-dc37-48e2-f8a5-818b66e5a1bc"
      },
      "source": [
        "results=[]\n",
        "for i in range(96):\n",
        "    parcial=model.predict(x_test)\n",
        "    results.append(parcial[0])\n",
        "    #print(x_test)\n",
        "    x_test=agregarNuevoValor(x_test,parcial[0])\n",
        "\n",
        "# SELECIONAR FECHAS\n",
        "mes_inicio = 2\n",
        "dia_inicio = 1\n",
        "mes_final = 2\n",
        "dia_final = 2\n",
        "\n",
        "dfil = df[['Local Time',va[select]]].copy()\n",
        "n=0\n",
        "for g in dfil[va[select]]:\n",
        "    if g>2160:\n",
        "        dfil[va[select]][n]=dfil.describe()[va[select]]['mean']\n",
        "    if g<500:\n",
        "        dfil[va[select]][n]=dfil.describe()[va[select]]['mean']-350\n",
        "    n+=1\n",
        "ini=datetime.datetime(2017,mes_inicio,dia_inicio,0,0)\n",
        "if mes_inicio ==12:\n",
        "    yf = 2018\n",
        "else:\n",
        "    yf =2017\n",
        "fin=datetime.datetime(yf,mes_final,dia_final,0,0)\n",
        "mask = (dfil[\"Local Time\"]>=ini) & (dfil[\"Local Time\"]<fin)\n",
        "seq = dfil.loc[mask] \n",
        "dfd = seq\n",
        "values = dfd['P'].values\n",
        "values = values.astype('float32')\n",
        "# normalize features\n",
        "values=values.reshape(-1, 1)\n",
        "y_val = scaler.fit_transform(values)\n",
        "compara = pd.DataFrame(np.array([y_val[:,0], [x[0] for x in results]])).transpose()\n",
        "compara.columns = ['real', 'prediccion']\n",
        "inverted = scaler.inverse_transform(compara.values)\n",
        "compara2 = pd.DataFrame(inverted)\n",
        "compara2.columns = ['real', 'prediccion']\n",
        "compara2['diferencia'] = compara2['real'] - compara2['prediccion']\n"
      ],
      "execution_count": null,
      "outputs": [
        {
          "output_type": "stream",
          "text": [
            "/usr/local/lib/python3.6/dist-packages/ipykernel_launcher.py:20: SettingWithCopyWarning: \n",
            "A value is trying to be set on a copy of a slice from a DataFrame\n",
            "\n",
            "See the caveats in the documentation: https://pandas.pydata.org/pandas-docs/stable/user_guide/indexing.html#returning-a-view-versus-a-copy\n",
            "/usr/local/lib/python3.6/dist-packages/ipykernel_launcher.py:18: SettingWithCopyWarning: \n",
            "A value is trying to be set on a copy of a slice from a DataFrame\n",
            "\n",
            "See the caveats in the documentation: https://pandas.pydata.org/pandas-docs/stable/user_guide/indexing.html#returning-a-view-versus-a-copy\n"
          ],
          "name": "stderr"
        }
      ]
    },
    {
      "cell_type": "code",
      "metadata": {
        "id": "SUt6SnfzHt0o",
        "colab_type": "code",
        "colab": {
          "base_uri": "https://localhost:8080/",
          "height": 281
        },
        "outputId": "65ace4fa-7d1d-4996-a3f1-2b4ea53db893"
      },
      "source": [
        "compara2['real'].plot(label='Real data' )\n",
        "compara2['prediccion'].plot(label='Prediction' )\n",
        "plt.title('Prediccion Febrero')\n",
        "plt.legend()\n",
        "plt.show()"
      ],
      "execution_count": null,
      "outputs": [
        {
          "output_type": "display_data",
          "data": {
            "image/png": "[encoded data removed]",
            "text/plain": [
              "<Figure size 432x288 with 1 Axes>"
            ]
          },
          "metadata": {
            "tags": [],
            "needs_background": "light"
          }
        }
      ]
    }
  ]
}